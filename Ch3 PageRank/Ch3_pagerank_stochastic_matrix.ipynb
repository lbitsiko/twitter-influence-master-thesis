{
 "cells": [
  {
   "cell_type": "code",
   "execution_count": 1,
   "id": "8abbc416-5dce-4735-89bf-a7850c8478f7",
   "metadata": {},
   "outputs": [],
   "source": [
    "import networkx as nx\n",
    "import matplotlib.pyplot as plt\n",
    "import numpy as np"
   ]
  },
  {
   "cell_type": "code",
   "execution_count": 2,
   "id": "40412dbf-6bb9-424e-95bf-4cc72cc8993d",
   "metadata": {},
   "outputs": [],
   "source": [
    "# fig, ax = plt.subplots()\n",
    "# ax.axis('off')\n",
    "G = nx.Graph()  # an undirected graph object\n",
    "\n",
    "for i in range(6): G.add_node(i + 1)\n",
    "\n",
    "G.add_edge(1, 2)\n",
    "G.add_edge(1, 3)\n",
    "G.add_edge(3, 1)\n",
    "G.add_edge(3, 2)\n",
    "G.add_edge(4, 5)\n",
    "G.add_edge(4, 6)\n",
    "G.add_edge(5, 4)\n",
    "G.add_edge(5, 6)\n",
    "G.add_edge(6, 4)\n",
    "G.add_edge(3, 5)\n",
    "spring_layout_for_G = nx.spring_layout(G, seed=100) # position of nodes not random\n",
    "# nx.draw_networkx(G, pos=spring_layout_for_G)\n",
    "# fig.savefig('./plots/Simple_pagerank_G.png', format='PNG')"
   ]
  },
  {
   "cell_type": "code",
   "execution_count": 3,
   "id": "a2e168fb-4ffb-4c58-a761-e7db9c578756",
   "metadata": {},
   "outputs": [
    {
     "data": {
      "image/png": "[encoded data removed]",
      "text/plain": [
       "<Figure size 432x288 with 1 Axes>"
      ]
     },
     "metadata": {},
     "output_type": "display_data"
    }
   ],
   "source": [
    "fig2, ax = plt.subplots()\n",
    "# ax.axis('off')\n",
    "G = nx.DiGraph()  # a directed graph object\n",
    "for i in range(6): G.add_node(i + 1)\n",
    "\n",
    "G.add_edge(1, 2)\n",
    "G.add_edge(1, 3)\n",
    "G.add_edge(3, 1)\n",
    "G.add_edge(3, 2)\n",
    "G.add_edge(4, 5)\n",
    "G.add_edge(4, 6)\n",
    "G.add_edge(5, 4)\n",
    "G.add_edge(5, 6)\n",
    "G.add_edge(6, 4)\n",
    "G.add_edge(3, 5)\n",
    "nx.draw_networkx(G, pos=spring_layout_for_G)\n",
    "# fig2.savefig('./plots/Simple_pagerank_DiGraph.png', format='PNG')"
   ]
  },
  {
   "cell_type": "code",
   "execution_count": 18,
   "id": "38600bec-7f2d-4375-8dc7-ffcb45140ba1",
   "metadata": {},
   "outputs": [],
   "source": [
    "H = nx.adjacency_matrix(G).astype(float)\n",
    "out_degree_for_nodes_of_G = G.out_degree\n",
    "for i, j in zip(H.nonzero()[0], H.nonzero()[1]):\n",
    "    try:\n",
    "        H[i, j] = 1. / out_degree_for_nodes_of_G[i + 1]\n",
    "    except ZeroDivisionError:\n",
    "        print(\"non zero elements appear to be zero\")"
   ]
  },
  {
   "cell_type": "code",
   "execution_count": 12,
   "id": "d3df7527-8c48-4e75-ae34-48878ea3085b",
   "metadata": {},
   "outputs": [],
   "source": [
    "# zero_indexes = np.where(H.getnnz(1)==0)\n",
    "# for i in zero_indexes[0]:\n",
    "#     # print(i)\n",
    "#     # print()\n",
    "#     for j in range(H.shape[1]):\n",
    "#         # print(H[i, j])\n",
    "#         H[i,j] = 1.0/H.shape[1]\n",
    "#         # print( 1.0/H.shape[1])\n",
    "#     # print()"
   ]
  },
  {
   "cell_type": "code",
   "execution_count": 13,
   "id": "6ea9e7f2-ae7e-4730-9446-a07a473e4b7d",
   "metadata": {},
   "outputs": [],
   "source": [
    "# H"
   ]
  },
  {
   "cell_type": "code",
   "execution_count": 14,
   "id": "78374ba8-dddf-4f2b-9559-39ec3b7d7936",
   "metadata": {},
   "outputs": [],
   "source": [
    "# H.todense()"
   ]
  },
  {
   "cell_type": "code",
   "execution_count": 19,
   "id": "c86348df-7995-4c9b-88f2-fdda3932934c",
   "metadata": {},
   "outputs": [
    {
     "data": {
      "text/plain": [
       "array([0., 1., 0., 0., 0., 0.])"
      ]
     },
     "execution_count": 19,
     "metadata": {},
     "output_type": "execute_result"
    }
   ],
   "source": [
    "alphas = np.zeros(H.shape[0])\n",
    "zero_indexes = np.where(H.getnnz(1)==0)\n",
    "for i in zero_indexes[0]:\n",
    "    alphas[i] = 1.0\n",
    "alphas"
   ]
  },
  {
   "cell_type": "code",
   "execution_count": 20,
   "id": "a6ad1d85-f012-4082-b7e1-35382d946024",
   "metadata": {},
   "outputs": [
    {
     "data": {
      "text/plain": [
       "array([0.16666667, 0.16666667, 0.16666667, 0.16666667, 0.16666667,\n",
       "       0.16666667])"
      ]
     },
     "execution_count": 20,
     "metadata": {},
     "output_type": "execute_result"
    }
   ],
   "source": [
    "epsilons = np.ones(H.shape[0])/H.shape[0]\n",
    "epsilons"
   ]
  },
  {
   "cell_type": "code",
   "execution_count": 21,
   "id": "a15b2a0b-bee0-4ec5-9cf6-71639dc2c562",
   "metadata": {},
   "outputs": [
    {
     "data": {
      "text/plain": [
       "matrix([[0.        , 0.5       , 0.5       , 0.        , 0.        ,\n",
       "         0.        ],\n",
       "        [0.16666667, 0.16666667, 0.16666667, 0.16666667, 0.16666667,\n",
       "         0.16666667],\n",
       "        [0.33333333, 0.33333333, 0.        , 0.        , 0.33333333,\n",
       "         0.        ],\n",
       "        [0.        , 0.        , 0.        , 0.        , 0.5       ,\n",
       "         0.5       ],\n",
       "        [0.        , 0.        , 0.        , 0.5       , 0.        ,\n",
       "         0.5       ],\n",
       "        [0.        , 0.        , 0.        , 1.        , 0.        ,\n",
       "         0.        ]])"
      ]
     },
     "execution_count": 21,
     "metadata": {},
     "output_type": "execute_result"
    }
   ],
   "source": [
    "H + np.dot(alphas[:,None],epsilons[None,:])"
   ]
  },
  {
   "cell_type": "code",
   "execution_count": 30,
   "id": "ffafde9a-5c00-4986-8fd6-57af2ab0043f",
   "metadata": {},
   "outputs": [
    {
     "data": {
      "text/plain": [
       "array([[0.16666667],\n",
       "       [0.16666667],\n",
       "       [0.16666667],\n",
       "       [0.16666667],\n",
       "       [0.16666667],\n",
       "       [0.16666667]])"
      ]
     },
     "execution_count": 30,
     "metadata": {},
     "output_type": "execute_result"
    }
   ],
   "source": []
  },
  {
   "cell_type": "code",
   "execution_count": 25,
   "id": "907aed6a-28f0-436a-8706-e05798942c70",
   "metadata": {},
   "outputs": [
    {
     "data": {
      "text/plain": [
       "(6,)"
      ]
     },
     "execution_count": 25,
     "metadata": {},
     "output_type": "execute_result"
    }
   ],
   "source": [
    "alphas.shape"
   ]
  },
  {
   "cell_type": "code",
   "execution_count": 26,
   "id": "d76ff784-70c3-4b41-8d73-b4442b6dffca",
   "metadata": {},
   "outputs": [
    {
     "data": {
      "text/plain": [
       "array([[0., 1., 0., 0., 0., 0.]])"
      ]
     },
     "execution_count": 26,
     "metadata": {},
     "output_type": "execute_result"
    }
   ],
   "source": []
  },
  {
   "cell_type": "code",
   "execution_count": null,
   "id": "39369825-3027-4faa-8aac-e135443906f0",
   "metadata": {},
   "outputs": [],
   "source": []
  }
 ],
 "metadata": {
  "kernelspec": {
   "display_name": "Python 3 (ipykernel)",
   "language": "python",
   "name": "python3"
  },
  "language_info": {
   "codemirror_mode": {
    "name": "ipython",
    "version": 3
   },
   "file_extension": ".py",
   "mimetype": "text/x-python",
   "name": "python",
   "nbconvert_exporter": "python",
   "pygments_lexer": "ipython3",
   "version": "3.7.11"
  }
 },
 "nbformat": 4,
 "nbformat_minor": 5
}
