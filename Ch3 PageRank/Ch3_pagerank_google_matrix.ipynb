{
 "cells": [
  {
   "cell_type": "code",
   "execution_count": 1,
   "id": "5bad293a-306b-4c69-8575-ab2f55142bb0",
   "metadata": {},
   "outputs": [],
   "source": [
    "import networkx as nx\n",
    "import matplotlib.pyplot as plt\n",
    "import numpy as np"
   ]
  },
  {
   "cell_type": "code",
   "execution_count": 2,
   "id": "130848a4-68fd-4a26-9798-fe89ed0e7e08",
   "metadata": {},
   "outputs": [],
   "source": [
    "# fig, ax = plt.subplots()\n",
    "# ax.axis('off')\n",
    "G = nx.Graph()  # an undirected graph object\n",
    "\n",
    "for i in range(6): G.add_node(i + 1)\n",
    "\n",
    "G.add_edge(1, 2)\n",
    "G.add_edge(1, 3)\n",
    "G.add_edge(3, 1)\n",
    "G.add_edge(3, 2)\n",
    "G.add_edge(4, 5)\n",
    "G.add_edge(4, 6)\n",
    "G.add_edge(5, 4)\n",
    "G.add_edge(5, 6)\n",
    "G.add_edge(6, 4)\n",
    "G.add_edge(3, 5)\n",
    "spring_layout_for_G = nx.spring_layout(G, seed=100) # position of nodes not random\n",
    "# nx.draw_networkx(G, pos=spring_layout_for_G)\n",
    "# fig.savefig('./plots/Simple_pagerank_G.png', format='PNG')"
   ]
  },
  {
   "cell_type": "code",
   "execution_count": 3,
   "id": "6f7d655b-30f7-4c9a-afd5-010055dd503e",
   "metadata": {},
   "outputs": [
    {
     "data": {
      "image/png": "[encoded data removed]",
      "text/plain": [
       "<Figure size 432x288 with 1 Axes>"
      ]
     },
     "metadata": {},
     "output_type": "display_data"
    }
   ],
   "source": [
    "fig2, ax = plt.subplots()\n",
    "# ax.axis('off')\n",
    "G = nx.DiGraph()  # a directed graph object\n",
    "for i in range(6): G.add_node(i + 1)\n",
    "\n",
    "G.add_edge(1, 2)\n",
    "G.add_edge(1, 3)\n",
    "G.add_edge(3, 1)\n",
    "G.add_edge(3, 2)\n",
    "G.add_edge(4, 5)\n",
    "G.add_edge(4, 6)\n",
    "G.add_edge(5, 4)\n",
    "G.add_edge(5, 6)\n",
    "G.add_edge(6, 4)\n",
    "G.add_edge(3, 5)\n",
    "nx.draw_networkx(G, pos=spring_layout_for_G)\n",
    "# fig2.savefig('./plots/Simple_pagerank_DiGraph.png', format='PNG')"
   ]
  },
  {
   "cell_type": "code",
   "execution_count": 4,
   "id": "2466bedd-e6b4-4107-bafb-4599c9df46d1",
   "metadata": {},
   "outputs": [],
   "source": [
    "H = nx.adjacency_matrix(G).astype(float)\n",
    "out_degree_for_nodes_of_G = G.out_degree\n",
    "for i, j in zip(H.nonzero()[0], H.nonzero()[1]):\n",
    "    try:\n",
    "        H[i, j] = 1. / out_degree_for_nodes_of_G[i + 1]\n",
    "    except ZeroDivisionError:\n",
    "        print(\"non zero elements appear to be zero\")"
   ]
  },
  {
   "cell_type": "code",
   "execution_count": 5,
   "id": "f5db8cdf-426d-470e-bc3d-bca3fb1e3050",
   "metadata": {},
   "outputs": [
    {
     "data": {
      "text/plain": [
       "array([0., 1., 0., 0., 0., 0.])"
      ]
     },
     "execution_count": 5,
     "metadata": {},
     "output_type": "execute_result"
    }
   ],
   "source": [
    "alphas = np.zeros(H.shape[0])\n",
    "zero_indexes = np.where(H.getnnz(1)==0)\n",
    "for i in zero_indexes[0]:\n",
    "    alphas[i] = 1.0\n",
    "alphas"
   ]
  },
  {
   "cell_type": "code",
   "execution_count": 6,
   "id": "837eadd8-6b07-4f65-a4a0-4ee1b162b364",
   "metadata": {},
   "outputs": [
    {
     "data": {
      "text/plain": [
       "array([0.16666667, 0.16666667, 0.16666667, 0.16666667, 0.16666667,\n",
       "       0.16666667])"
      ]
     },
     "execution_count": 6,
     "metadata": {},
     "output_type": "execute_result"
    }
   ],
   "source": [
    "epsilons = np.ones(H.shape[0])\n",
    "one_over_n_epsilons = epsilons/H.shape[0]\n",
    "one_over_n_epsilons"
   ]
  },
  {
   "cell_type": "code",
   "execution_count": 7,
   "id": "ffa52bbb-872f-4b20-b90e-1b8c82250025",
   "metadata": {},
   "outputs": [
    {
     "data": {
      "text/plain": [
       "<6x6 sparse matrix of type '<class 'numpy.float64'>'\n",
       "\twith 10 stored elements in Compressed Sparse Row format>"
      ]
     },
     "execution_count": 7,
     "metadata": {},
     "output_type": "execute_result"
    }
   ],
   "source": [
    "c = 0.85\n",
    "c*H"
   ]
  },
  {
   "cell_type": "code",
   "execution_count": 8,
   "id": "d62c17d9-ac44-4319-a2f8-4131170e0a91",
   "metadata": {},
   "outputs": [
    {
     "data": {
      "text/plain": [
       "matrix([[0.        , 0.425     , 0.425     , 0.        , 0.        ,\n",
       "         0.        ],\n",
       "        [0.        , 0.        , 0.        , 0.        , 0.        ,\n",
       "         0.        ],\n",
       "        [0.28333333, 0.28333333, 0.        , 0.        , 0.28333333,\n",
       "         0.        ],\n",
       "        [0.        , 0.        , 0.        , 0.        , 0.425     ,\n",
       "         0.425     ],\n",
       "        [0.        , 0.        , 0.        , 0.425     , 0.        ,\n",
       "         0.425     ],\n",
       "        [0.        , 0.        , 0.        , 0.85      , 0.        ,\n",
       "         0.        ]])"
      ]
     },
     "execution_count": 8,
     "metadata": {},
     "output_type": "execute_result"
    }
   ],
   "source": [
    "_.todense()"
   ]
  },
  {
   "cell_type": "code",
   "execution_count": 9,
   "id": "6c623ad6-9a22-41ec-8775-dbbf79747d38",
   "metadata": {},
   "outputs": [
    {
     "data": {
      "text/plain": [
       "array([0.15, 1.  , 0.15, 0.15, 0.15, 0.15])"
      ]
     },
     "execution_count": 9,
     "metadata": {},
     "output_type": "execute_result"
    }
   ],
   "source": [
    "right_vector = c * alphas + (1.0 - c) * epsilons\n",
    "right_vector"
   ]
  },
  {
   "cell_type": "code",
   "execution_count": 25,
   "id": "e7e7947d-bbf2-4694-8110-5045b805717a",
   "metadata": {},
   "outputs": [
    {
     "data": {
      "text/plain": [
       "matrix([[0.025     , 0.45      , 0.45      , 0.025     , 0.025     ,\n",
       "         0.025     ],\n",
       "        [0.16666667, 0.16666667, 0.16666667, 0.16666667, 0.16666667,\n",
       "         0.16666667],\n",
       "        [0.30833333, 0.30833333, 0.025     , 0.025     , 0.30833333,\n",
       "         0.025     ],\n",
       "        [0.025     , 0.025     , 0.025     , 0.025     , 0.45      ,\n",
       "         0.45      ],\n",
       "        [0.025     , 0.025     , 0.025     , 0.45      , 0.025     ,\n",
       "         0.45      ],\n",
       "        [0.025     , 0.025     , 0.025     , 0.875     , 0.025     ,\n",
       "         0.025     ]])"
      ]
     },
     "execution_count": 25,
     "metadata": {},
     "output_type": "execute_result"
    }
   ],
   "source": [
    "google_matr = c*H + np.dot(right_vector[:,None],one_over_n_epsilons[None,:])\n",
    "google_matr"
   ]
  },
  {
   "cell_type": "code",
   "execution_count": 15,
   "id": "797ca4b0-2b66-4a9d-96d4-9d86750d5993",
   "metadata": {},
   "outputs": [
    {
     "data": {
      "text/plain": [
       "matrix([[0.025     , 0.45      , 0.45      , 0.025     , 0.025     ,\n",
       "         0.025     ],\n",
       "        [0.16666667, 0.16666667, 0.16666667, 0.16666667, 0.16666667,\n",
       "         0.16666667],\n",
       "        [0.30833333, 0.30833333, 0.025     , 0.025     , 0.30833333,\n",
       "         0.025     ],\n",
       "        [0.025     , 0.025     , 0.025     , 0.025     , 0.45      ,\n",
       "         0.45      ],\n",
       "        [0.025     , 0.025     , 0.025     , 0.45      , 0.025     ,\n",
       "         0.45      ],\n",
       "        [0.025     , 0.025     , 0.025     , 0.875     , 0.025     ,\n",
       "         0.025     ]])"
      ]
     },
     "execution_count": 15,
     "metadata": {},
     "output_type": "execute_result"
    }
   ],
   "source": [
    "nx.google_matrix(G)"
   ]
  },
  {
   "cell_type": "code",
   "execution_count": 118,
   "id": "316160bb-c249-44c3-8583-67cbbe8a279b",
   "metadata": {},
   "outputs": [
    {
     "name": "stdout",
     "output_type": "stream",
     "text": [
      "iteration: 0\n",
      " [0.16666667 0.16666667 0.16666667 0.16666667 0.16666667 0.16666667]\n",
      "\n",
      "\n",
      "iteration: 1\n",
      " [[0.09583333 0.16666667 0.11944444 0.26111111 0.16666667 0.19027778]]\n",
      "\n",
      "\n",
      "iteration: 2\n",
      " [[0.0824537  0.12318287 0.08934028 0.28118056 0.19342593 0.23041667]]\n",
      "\n",
      "\n",
      "iteration: 3\n",
      " [[0.06776399 0.10280681 0.07749373 0.32051109 0.18726572 0.24415866]]\n",
      "\n",
      "\n",
      "iteration: 4\n",
      " [[0.06152086 0.09032055 0.06836399 0.32668709 0.19773807 0.25536944]]\n",
      "\n",
      "\n",
      "iteration: 5\n",
      " [[0.05716521 0.08331157 0.06394177 0.33889812 0.19600722 0.2606761 ]]\n",
      "\n",
      "\n",
      "iteration: 6\n",
      " [[0.05491931 0.07921452 0.06109769 0.34168023 0.19895101 0.26413724]]\n",
      "\n",
      "\n",
      "iteration: 7\n",
      " [[0.05353307 0.07687377 0.05956276 0.34529289 0.19874717 0.26599033]]\n",
      "\n",
      "\n",
      "iteration: 8\n",
      " [[0.05276657 0.07551812 0.05864201 0.34644978 0.19951605 0.26710748]]\n",
      "\n",
      "\n",
      "iteration: 9\n",
      " [[0.05231364 0.07473943 0.05812419 0.34753408 0.19955479 0.26773388]]\n",
      "\n",
      "\n",
      "iteration: 10\n",
      " [[0.05205661 0.0742899  0.05782138 0.34797267 0.19975859 0.26810085]]\n",
      "\n",
      "\n"
     ]
    }
   ],
   "source": [
    "pi0 = google_matr.shape[0]*[1/google_matr.shape[0]] # elements 1/n\n",
    "pi0 = np.array(pi0)\n",
    "print('iteration: 0\\n', pi0)\n",
    "print('\\n')\n",
    "for i in range(10):\n",
    "    pi_new = np.matmul(pi0, google_matr)\n",
    "    print(f'iteration: {i+1}\\n', pi_new)\n",
    "    print('\\n')\n",
    "    pi0 = pi_new"
   ]
  },
  {
   "cell_type": "code",
   "execution_count": 116,
   "id": "b50363d8-61b6-4078-b9d9-cc3c4de1eb60",
   "metadata": {},
   "outputs": [
    {
     "data": {
      "text/plain": [
       "{1: 0.05170556259095014,\n",
       " 2: 0.07368068204240268,\n",
       " 3: 0.05741336396912545,\n",
       " 4: 0.34870204607252414,\n",
       " 5: 0.19990341577794055,\n",
       " 6: 0.26859492954705705}"
      ]
     },
     "execution_count": 116,
     "metadata": {},
     "output_type": "execute_result"
    }
   ],
   "source": [
    "nx.pagerank(G)"
   ]
  },
  {
   "cell_type": "code",
   "execution_count": null,
   "id": "d3f68bbd-40df-40dc-92b6-3e70ac26b01e",
   "metadata": {},
   "outputs": [],
   "source": []
  }
 ],
 "metadata": {
  "kernelspec": {
   "display_name": "Python 3 (ipykernel)",
   "language": "python",
   "name": "python3"
  },
  "language_info": {
   "codemirror_mode": {
    "name": "ipython",
    "version": 3
   },
   "file_extension": ".py",
   "mimetype": "text/x-python",
   "name": "python",
   "nbconvert_exporter": "python",
   "pygments_lexer": "ipython3",
   "version": "3.7.11"
  }
 },
 "nbformat": 4,
 "nbformat_minor": 5
}
