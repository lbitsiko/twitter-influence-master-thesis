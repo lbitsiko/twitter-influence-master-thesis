{
 "cells": [
  {
   "cell_type": "code",
   "execution_count": 10,
   "id": "2777a91f-9b1a-42a1-a464-1f753b84e831",
   "metadata": {},
   "outputs": [],
   "source": [
    "import networkx as nx\n",
    "import matplotlib.pyplot as plt\n",
    "import numpy as np"
   ]
  },
  {
   "cell_type": "code",
   "execution_count": 11,
   "id": "be91f2e6-f909-41e8-88d1-2707512e6e39",
   "metadata": {},
   "outputs": [
    {
     "data": {
      "image/png": "[encoded data removed]",
      "text/plain": [
       "<Figure size 432x288 with 1 Axes>"
      ]
     },
     "metadata": {},
     "output_type": "display_data"
    }
   ],
   "source": [
    "fig, ax = plt.subplots()\n",
    "# ax.axis('off')\n",
    "G = nx.Graph()  # an undirected graph object\n",
    "\n",
    "for i in range(6): G.add_node(i + 1)\n",
    "\n",
    "G.add_edge(1, 2)\n",
    "G.add_edge(1, 3)\n",
    "G.add_edge(3, 1)\n",
    "G.add_edge(3, 2)\n",
    "G.add_edge(4, 5)\n",
    "G.add_edge(4, 6)\n",
    "G.add_edge(5, 4)\n",
    "G.add_edge(5, 6)\n",
    "G.add_edge(6, 4)\n",
    "G.add_edge(3, 5)\n",
    "spring_layout_for_G = nx.spring_layout(G, seed=100) # position of nodes not random\n",
    "nx.draw_networkx(G, pos=spring_layout_for_G)\n",
    "fig.savefig('./plots/Simple_pagerank_G.png', format='PNG')"
   ]
  },
  {
   "cell_type": "code",
   "execution_count": 12,
   "id": "20b5fbce-f407-4fd5-b33d-d22def56d46c",
   "metadata": {},
   "outputs": [
    {
     "data": {
      "image/png": "[encoded data removed]",
      "text/plain": [
       "<Figure size 432x288 with 1 Axes>"
      ]
     },
     "metadata": {},
     "output_type": "display_data"
    }
   ],
   "source": [
    "fig2, ax = plt.subplots()\n",
    "# ax.axis('off')\n",
    "G = nx.DiGraph()  # a directed graph object\n",
    "for i in range(6): G.add_node(i + 1)\n",
    "\n",
    "G.add_edge(1, 2)\n",
    "G.add_edge(1, 3)\n",
    "G.add_edge(3, 1)\n",
    "G.add_edge(3, 2)\n",
    "G.add_edge(4, 5)\n",
    "G.add_edge(4, 6)\n",
    "G.add_edge(5, 4)\n",
    "G.add_edge(5, 6)\n",
    "G.add_edge(6, 4)\n",
    "G.add_edge(3, 5)\n",
    "nx.draw_networkx(G, pos=spring_layout_for_G)\n",
    "fig2.savefig('./plots/Simple_pagerank_DiGraph.png', format='PNG')"
   ]
  },
  {
   "cell_type": "code",
   "execution_count": 27,
   "id": "71fd50d1-d71f-4ab8-918c-18335c997b47",
   "metadata": {},
   "outputs": [
    {
     "data": {
      "text/plain": [
       "<6x6 sparse matrix of type '<class 'numpy.intc'>'\n",
       "\twith 10 stored elements in Compressed Sparse Row format>"
      ]
     },
     "execution_count": 27,
     "metadata": {},
     "output_type": "execute_result"
    }
   ],
   "source": [
    "adj_matrix = nx.adjacency_matrix(G)\n",
    "adj_matrix"
   ]
  },
  {
   "cell_type": "code",
   "execution_count": 28,
   "id": "697b042f-e77a-4a6f-b1da-ebf7c3f8c383",
   "metadata": {},
   "outputs": [
    {
     "data": {
      "text/plain": [
       "matrix([[0, 1, 1, 0, 0, 0],\n",
       "        [0, 0, 0, 0, 0, 0],\n",
       "        [1, 1, 0, 0, 1, 0],\n",
       "        [0, 0, 0, 0, 1, 1],\n",
       "        [0, 0, 0, 1, 0, 1],\n",
       "        [0, 0, 0, 1, 0, 0]], dtype=int32)"
      ]
     },
     "execution_count": 28,
     "metadata": {},
     "output_type": "execute_result"
    }
   ],
   "source": [
    "adj_matrix.todense()"
   ]
  },
  {
   "cell_type": "code",
   "execution_count": 29,
   "id": "d811752f-b55b-46a0-a473-e52e4f504cab",
   "metadata": {},
   "outputs": [
    {
     "data": {
      "text/plain": [
       "<6x6 sparse matrix of type '<class 'numpy.float64'>'\n",
       "\twith 10 stored elements in Compressed Sparse Row format>"
      ]
     },
     "execution_count": 29,
     "metadata": {},
     "output_type": "execute_result"
    }
   ],
   "source": [
    "H = nx.adjacency_matrix(G).astype(float)\n",
    "out_degree_for_nodes_of_G = G.out_degree\n",
    "for i, j in zip(H.nonzero()[0], H.nonzero()[1]):\n",
    "    try:\n",
    "        H[i, j] = 1. / out_degree_for_nodes_of_G[i + 1]\n",
    "    except ZeroDivisionError:\n",
    "        print(\"non zero elements appear to be zero\")\n",
    "H"
   ]
  },
  {
   "cell_type": "code",
   "execution_count": 30,
   "id": "d29ef613-5b57-4284-9920-3d006beaf3ee",
   "metadata": {},
   "outputs": [
    {
     "data": {
      "text/plain": [
       "matrix([[0.        , 0.5       , 0.5       , 0.        , 0.        ,\n",
       "         0.        ],\n",
       "        [0.        , 0.        , 0.        , 0.        , 0.        ,\n",
       "         0.        ],\n",
       "        [0.33333333, 0.33333333, 0.        , 0.        , 0.33333333,\n",
       "         0.        ],\n",
       "        [0.        , 0.        , 0.        , 0.        , 0.5       ,\n",
       "         0.5       ],\n",
       "        [0.        , 0.        , 0.        , 0.5       , 0.        ,\n",
       "         0.5       ],\n",
       "        [0.        , 0.        , 0.        , 1.        , 0.        ,\n",
       "         0.        ]])"
      ]
     },
     "execution_count": 30,
     "metadata": {},
     "output_type": "execute_result"
    }
   ],
   "source": [
    "H.todense()"
   ]
  },
  {
   "cell_type": "code",
   "execution_count": 49,
   "id": "a636ffd5-0d10-4485-ac3f-d2dca7ea5168",
   "metadata": {},
   "outputs": [
    {
     "data": {
      "text/plain": [
       "array([0.16666667, 0.16666667, 0.16666667, 0.16666667, 0.16666667,\n",
       "       0.16666667])"
      ]
     },
     "execution_count": 49,
     "metadata": {},
     "output_type": "execute_result"
    }
   ],
   "source": [
    "pi0 = H.shape[0]*[1/H.shape[0]]\n",
    "pi0 = np.array(pi0)\n",
    "pi0"
   ]
  },
  {
   "cell_type": "code",
   "execution_count": 50,
   "id": "e30413bc-668e-4f1b-855f-8030e92c6359",
   "metadata": {},
   "outputs": [
    {
     "data": {
      "text/plain": [
       "(6,)"
      ]
     },
     "execution_count": 50,
     "metadata": {},
     "output_type": "execute_result"
    }
   ],
   "source": [
    "pi0.shape"
   ]
  },
  {
   "cell_type": "code",
   "execution_count": 51,
   "id": "bb75e20b-6b39-4301-860e-00281292663d",
   "metadata": {},
   "outputs": [
    {
     "data": {
      "text/plain": [
       "(6, 6)"
      ]
     },
     "execution_count": 51,
     "metadata": {},
     "output_type": "execute_result"
    }
   ],
   "source": [
    "H.shape"
   ]
  },
  {
   "cell_type": "code",
   "execution_count": 52,
   "id": "71101da3-7846-4cf8-9f14-ecb3a84e6b6f",
   "metadata": {},
   "outputs": [
    {
     "data": {
      "text/plain": [
       "matrix([[0.05555556, 0.13888889, 0.08333333, 0.25      , 0.13888889,\n",
       "         0.16666667]])"
      ]
     },
     "execution_count": 52,
     "metadata": {},
     "output_type": "execute_result"
    }
   ],
   "source": [
    "# iteration 1\n",
    "np.matmul(pi0,H.todense())"
   ]
  },
  {
   "cell_type": "code",
   "execution_count": 53,
   "id": "72961ce1-b6a4-49dc-96cc-2e559cd75863",
   "metadata": {},
   "outputs": [
    {
     "data": {
      "text/plain": [
       "matrix([[0.02777778, 0.05555556, 0.02777778, 0.23611111, 0.15277778,\n",
       "         0.19444444]])"
      ]
     },
     "execution_count": 53,
     "metadata": {},
     "output_type": "execute_result"
    }
   ],
   "source": [
    "# iteration 2\n",
    "np.matmul(np.matmul(pi0,H.todense()), H.todense())"
   ]
  },
  {
   "cell_type": "code",
   "execution_count": 66,
   "id": "642ba29b-c0af-4db1-8b5f-d5d17c37c339",
   "metadata": {},
   "outputs": [
    {
     "name": "stdout",
     "output_type": "stream",
     "text": [
      "iteration: 0\n",
      " [0.16666667 0.16666667 0.16666667 0.16666667 0.16666667 0.16666667]\n",
      "\n",
      "\n",
      "iteration: 1\n",
      " [[0.05555556 0.13888889 0.08333333 0.25       0.13888889 0.16666667]]\n",
      "\n",
      "\n",
      "iteration: 2\n",
      " [[0.02777778 0.05555556 0.02777778 0.23611111 0.15277778 0.19444444]]\n",
      "\n",
      "\n",
      "iteration: 3\n",
      " [[0.00925926 0.02314815 0.01388889 0.27083333 0.12731481 0.19444444]]\n",
      "\n",
      "\n",
      "iteration: 4\n",
      " [[0.00462963 0.00925926 0.00462963 0.25810185 0.1400463  0.19907407]]\n",
      "\n",
      "\n",
      "iteration: 5\n",
      " [[0.00154321 0.00385802 0.00231481 0.26909722 0.13059414 0.19907407]]\n",
      "\n",
      "\n",
      "iteration: 6\n",
      " [[0.0007716  0.00154321 0.0007716  0.26437114 0.13532022 0.19984568]]\n",
      "\n",
      "\n",
      "iteration: 7\n",
      " [[2.57201646e-04 6.43004115e-04 3.85802469e-04 2.67505787e-01\n",
      "  1.32442773e-01 1.99845679e-01]]\n",
      "\n",
      "\n",
      "iteration: 8\n",
      " [[1.28600823e-04 2.57201646e-04 1.28600823e-04 2.66067065e-01\n",
      "  1.33881494e-01 1.99974280e-01]]\n",
      "\n",
      "\n",
      "iteration: 9\n",
      " [[4.28669410e-05 1.07167353e-04 6.43004115e-05 2.66915027e-01\n",
      "  1.33076400e-01 1.99974280e-01]]\n",
      "\n",
      "\n",
      "iteration: 10\n",
      " [[2.14334705e-05 4.28669410e-05 2.14334705e-05 2.66512480e-01\n",
      "  1.33478947e-01 1.99995713e-01]]\n",
      "\n",
      "\n",
      "iteration: 11\n",
      " [[7.14449017e-06 1.78612254e-05 1.07167353e-05 2.66735187e-01\n",
      "  1.33263384e-01 1.99995713e-01]]\n",
      "\n",
      "\n",
      "iteration: 12\n",
      " [[3.57224508e-06 7.14449017e-06 3.57224508e-06 2.66627405e-01\n",
      "  1.33371166e-01 1.99999286e-01]]\n",
      "\n",
      "\n",
      "iteration: 13\n",
      " [[1.19074836e-06 2.97687090e-06 1.78612254e-06 2.66684868e-01\n",
      "  1.33314893e-01 1.99999286e-01]]\n",
      "\n",
      "\n",
      "iteration: 14\n",
      " [[5.95374181e-07 1.19074836e-06 5.95374181e-07 2.66656732e-01\n",
      "  1.33343030e-01 1.99999881e-01]]\n",
      "\n",
      "\n",
      "iteration: 15\n",
      " [[1.98458060e-07 4.96145151e-07 2.97687090e-07 2.66671396e-01\n",
      "  1.33328565e-01 1.99999881e-01]]\n",
      "\n",
      "\n",
      "iteration: 16\n",
      " [[9.92290301e-08 1.98458060e-07 9.92290301e-08 2.66664163e-01\n",
      "  1.33335797e-01 1.99999980e-01]]\n",
      "\n",
      "\n",
      "iteration: 17\n",
      " [[3.30763434e-08 8.26908584e-08 4.96145151e-08 2.66667879e-01\n",
      "  1.33332115e-01 1.99999980e-01]]\n",
      "\n",
      "\n",
      "iteration: 18\n",
      " [[1.65381717e-08 3.30763434e-08 1.65381717e-08 2.66666037e-01\n",
      "  1.33333956e-01 1.99999997e-01]]\n",
      "\n",
      "\n",
      "iteration: 19\n",
      " [[5.51272390e-09 1.37818097e-08 8.26908584e-09 2.66666975e-01\n",
      "  1.33333024e-01 1.99999997e-01]]\n",
      "\n",
      "\n",
      "iteration: 20\n",
      " [[2.75636195e-09 5.51272390e-09 2.75636195e-09 2.66666509e-01\n",
      "  1.33333490e-01 1.99999999e-01]]\n",
      "\n",
      "\n"
     ]
    }
   ],
   "source": [
    "pi0 = H.shape[0]*[1/H.shape[0]] # elements 1/n\n",
    "pi0 = np.array(pi0)\n",
    "print('iteration: 0\\n', pi0)\n",
    "print('\\n')\n",
    "for i in range(20):\n",
    "    pi_new = np.matmul(pi0,H.todense())\n",
    "    print(f'iteration: {i+1}\\n', pi_new)\n",
    "    print('\\n')\n",
    "    pi0 = pi_new"
   ]
  },
  {
   "cell_type": "code",
   "execution_count": 73,
   "id": "67eb3fa4-748c-4f83-b280-56e6806d9d65",
   "metadata": {},
   "outputs": [
    {
     "data": {
      "image/png": "[encoded data removed]",
      "text/plain": [
       "<Figure size 432x288 with 1 Axes>"
      ]
     },
     "metadata": {},
     "output_type": "display_data"
    }
   ],
   "source": [
    "# Cycles\n",
    "fig, ax = plt.subplots()\n",
    "# ax.axis('off')\n",
    "G = nx.DiGraph()  # an undirected graph object\n",
    "\n",
    "G.add_node(1)\n",
    "G.add_node(2)\n",
    "\n",
    "G.add_edge(1, 2)\n",
    "G.add_edge(2, 1)\n",
    "spring_layout_for_G = nx.spring_layout(G, seed=100) # position of nodes not random\n",
    "nx.draw_networkx(G, pos=spring_layout_for_G)\n",
    "# fig.savefig('./plots/Simple_pagerank_G.png', format='PNG')"
   ]
  },
  {
   "cell_type": "code",
   "execution_count": 76,
   "id": "4999e865-accf-49cc-a61c-cb9adddb849a",
   "metadata": {},
   "outputs": [
    {
     "data": {
      "text/plain": [
       "<2x2 sparse matrix of type '<class 'numpy.float64'>'\n",
       "\twith 2 stored elements in Compressed Sparse Row format>"
      ]
     },
     "execution_count": 76,
     "metadata": {},
     "output_type": "execute_result"
    }
   ],
   "source": [
    "H = nx.adjacency_matrix(G).astype(float)\n",
    "out_degree_for_nodes_of_G = G.out_degree\n",
    "for i, j in zip(H.nonzero()[0], H.nonzero()[1]):\n",
    "    try:\n",
    "        H[i, j] = 1. / out_degree_for_nodes_of_G[i + 1]\n",
    "    except ZeroDivisionError:\n",
    "        print(\"non zero elements appear to be zero\")\n",
    "H"
   ]
  },
  {
   "cell_type": "code",
   "execution_count": 77,
   "id": "a36b566b-677b-4f60-b1c9-f3f9a445c72a",
   "metadata": {},
   "outputs": [
    {
     "data": {
      "text/plain": [
       "matrix([[0., 1.],\n",
       "        [1., 0.]])"
      ]
     },
     "execution_count": 77,
     "metadata": {},
     "output_type": "execute_result"
    }
   ],
   "source": [
    "H.todense()"
   ]
  },
  {
   "cell_type": "code",
   "execution_count": 83,
   "id": "f49139b5-8d35-4ee4-8f19-37c01629dcb8",
   "metadata": {},
   "outputs": [
    {
     "name": "stdout",
     "output_type": "stream",
     "text": [
      "iteration: 0\n",
      " [0.5 0.5]\n",
      "\n",
      "\n",
      "iteration: 1\n",
      " [[0.5 0.5]]\n",
      "\n",
      "\n",
      "iteration: 2\n",
      " [[0.5 0.5]]\n",
      "\n",
      "\n",
      "iteration: 3\n",
      " [[0.5 0.5]]\n",
      "\n",
      "\n",
      "iteration: 4\n",
      " [[0.5 0.5]]\n",
      "\n",
      "\n"
     ]
    }
   ],
   "source": [
    "pi0 = H.shape[0]*[1/H.shape[0]] # elements 1/n\n",
    "pi0 = np.array(pi0)\n",
    "print('iteration: 0\\n', pi0)\n",
    "print('\\n')\n",
    "for i in range(4):\n",
    "    pi_new = np.matmul(pi0,H.todense())\n",
    "    print(f'iteration: {i+1}\\n', pi_new)\n",
    "    print('\\n')\n",
    "    pi0 = pi_new"
   ]
  },
  {
   "cell_type": "code",
   "execution_count": 84,
   "id": "decc0cb3-68bd-4e99-9c5a-8872cb143726",
   "metadata": {},
   "outputs": [
    {
     "name": "stdout",
     "output_type": "stream",
     "text": [
      "iteration: 0\n",
      " [0. 1.]\n",
      "\n",
      "\n",
      "iteration: 1\n",
      " [[1. 0.]]\n",
      "\n",
      "\n",
      "iteration: 2\n",
      " [[0. 1.]]\n",
      "\n",
      "\n",
      "iteration: 3\n",
      " [[1. 0.]]\n",
      "\n",
      "\n",
      "iteration: 4\n",
      " [[0. 1.]]\n",
      "\n",
      "\n",
      "iteration: 5\n",
      " [[1. 0.]]\n",
      "\n",
      "\n",
      "iteration: 6\n",
      " [[0. 1.]]\n",
      "\n",
      "\n"
     ]
    }
   ],
   "source": [
    "pi0 = np.array([0, 1.])\n",
    "print('iteration: 0\\n', pi0)\n",
    "print('\\n')\n",
    "for i in range(6):\n",
    "    pi_new = np.matmul(pi0,H.todense())\n",
    "    print(f'iteration: {i+1}\\n', pi_new)\n",
    "    print('\\n')\n",
    "    pi0 = pi_new"
   ]
  },
  {
   "cell_type": "code",
   "execution_count": null,
   "id": "fe99ba08-db96-43bf-9898-0f0eb2233352",
   "metadata": {},
   "outputs": [],
   "source": []
  }
 ],
 "metadata": {
  "kernelspec": {
   "display_name": "Python 3 (ipykernel)",
   "language": "python",
   "name": "python3"
  },
  "language_info": {
   "codemirror_mode": {
    "name": "ipython",
    "version": 3
   },
   "file_extension": ".py",
   "mimetype": "text/x-python",
   "name": "python",
   "nbconvert_exporter": "python",
   "pygments_lexer": "ipython3",
   "version": "3.7.11"
  }
 },
 "nbformat": 4,
 "nbformat_minor": 5
}
