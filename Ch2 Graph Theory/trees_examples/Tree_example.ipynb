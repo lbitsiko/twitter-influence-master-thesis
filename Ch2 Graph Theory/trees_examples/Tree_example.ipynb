{
 "cells": [
  {
   "cell_type": "code",
   "execution_count": 1,
   "id": "9572ffb0-ac8e-4a0d-9013-04f43f683b05",
   "metadata": {},
   "outputs": [],
   "source": [
    "import numpy as np\n",
    "import networkx as nx\n",
    "import matplotlib.pyplot as plt\n",
    "# %matplotlib widget"
   ]
  },
  {
   "cell_type": "code",
   "execution_count": 2,
   "id": "1fa93022-7044-480a-861b-4e346633e4fd",
   "metadata": {},
   "outputs": [
    {
     "data": {
      "image/png": "[encoded data removed]",
      "text/plain": [
       "<Figure size 432x288 with 1 Axes>"
      ]
     },
     "metadata": {},
     "output_type": "display_data"
    }
   ],
   "source": [
    "fig, ax = plt.subplots()\n",
    "ax.axis('off')\n",
    "dict_of_lists_graph = {1:[2],\n",
    "                       2:[3,8,10],\n",
    "                       8:[9],\n",
    "                       9:[],\n",
    "                       3:[4,5],\n",
    "                       5:[],\n",
    "                       4:[13,6],\n",
    "                       6:[7],\n",
    "                       7:[],\n",
    "                       13:[],\n",
    "                      10:[11,12],\n",
    "                      12:[14],\n",
    "                      14:[15,16],\n",
    "                      15:[],\n",
    "                      16:[],\n",
    "                       11:[18,19,17,20],\n",
    "                      18:[],\n",
    "                      19:[],\n",
    "                      17:[],\n",
    "                      20:[21,22],\n",
    "                      21:[23],\n",
    "                      23:[],\n",
    "                      22:[]}\n",
    "G = nx.from_dict_of_lists(dict_of_lists_graph)\n",
    "spring_layout_for_G = nx.spring_layout(G, seed=70) # position of nodes not random\n",
    "nx.draw_networkx(G,pos=spring_layout_for_G,with_labels=False)\n",
    "fig.savefig('./tree_example.png')"
   ]
  },
  {
   "cell_type": "code",
   "execution_count": null,
   "id": "35960841-e76e-494b-a387-98043d46f838",
   "metadata": {},
   "outputs": [],
   "source": []
  }
 ],
 "metadata": {
  "kernelspec": {
   "display_name": "Python 3 (ipykernel)",
   "language": "python",
   "name": "python3"
  },
  "language_info": {
   "codemirror_mode": {
    "name": "ipython",
    "version": 3
   },
   "file_extension": ".py",
   "mimetype": "text/x-python",
   "name": "python",
   "nbconvert_exporter": "python",
   "pygments_lexer": "ipython3",
   "version": "3.7.11"
  }
 },
 "nbformat": 4,
 "nbformat_minor": 5
}
