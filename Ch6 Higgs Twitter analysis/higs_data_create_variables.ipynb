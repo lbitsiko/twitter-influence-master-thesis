{
 "cells": [
  {
   "cell_type": "code",
   "execution_count": 1,
   "id": "71b1d3df-e4a2-4b7d-a3ab-851a5a6f0de2",
   "metadata": {},
   "outputs": [],
   "source": [
    "import numpy as np\n",
    "import networkx as nx\n",
    "import matplotlib.pyplot as plt\n",
    "import pandas as pd\n",
    "# %matplotlib widget"
   ]
  },
  {
   "cell_type": "code",
   "execution_count": 2,
   "id": "ab327b5a-8ab0-4ae3-978e-11e4bf612597",
   "metadata": {},
   "outputs": [],
   "source": [
    "df_social = pd.read_table('./data/higgs-social_network.edgelist', sep = ' ', names = ['A', 'B'])"
   ]
  },
  {
   "cell_type": "code",
   "execution_count": 3,
   "id": "d32e37d3-2462-41b9-bc4d-fef1e09f6dff",
   "metadata": {},
   "outputs": [],
   "source": [
    "df_mention = pd.read_table('./data/higgs-mention_network.edgelist', sep = ' ', names = ['A', 'B', 'w'])"
   ]
  },
  {
   "cell_type": "code",
   "execution_count": 4,
   "id": "f6f4e52e-0d51-40d4-8351-aef88701602b",
   "metadata": {},
   "outputs": [],
   "source": [
    "df_retweet = pd.read_table('./data/higgs-retweet_network.edgelist', sep = ' ', names = ['A', 'B', 'w'])"
   ]
  },
  {
   "cell_type": "code",
   "execution_count": 5,
   "id": "36c211cf-6468-4f2e-a02d-9386c0fa0108",
   "metadata": {},
   "outputs": [],
   "source": [
    "df_reply = pd.read_table('./data/higgs-reply_network.edgelist', sep = ' ', names = ['A', 'B', 'w'])"
   ]
  },
  {
   "cell_type": "code",
   "execution_count": 18,
   "id": "b4be45e7-ad1f-47c2-8825-5eac67028226",
   "metadata": {},
   "outputs": [],
   "source": [
    "import time"
   ]
  },
  {
   "cell_type": "code",
   "execution_count": 10,
   "id": "ded02325-325b-491e-916e-22c635c68da4",
   "metadata": {},
   "outputs": [
    {
     "name": "stdout",
     "output_type": "stream",
     "text": [
      "479.2698624134064 seconds\n",
      "7.98783104022344 min\n"
     ]
    }
   ],
   "source": [
    "# Create directed graph\n",
    "G_social = nx.from_pandas_edgelist(df_social, source = 'A', target = 'B', create_using=nx.DiGraph)\n",
    "# prev Runtime:\n",
    "# 479.2698624134064 seconds\n",
    "# 7.98783104022344 min"
   ]
  },
  {
   "cell_type": "code",
   "execution_count": 7,
   "id": "69ba325d-114b-4989-9cd9-24673be7d7a9",
   "metadata": {},
   "outputs": [],
   "source": [
    "import pickle"
   ]
  },
  {
   "cell_type": "code",
   "execution_count": 11,
   "id": "43d9f500-0b80-4586-9198-57933cfea017",
   "metadata": {},
   "outputs": [],
   "source": [
    "# Save directed graph in pickle form\n",
    "with open('./pickles/G_social_DiGraph.pickle', 'wb') as file:\n",
    "    pickle.dump(G_social, file)"
   ]
  },
  {
   "cell_type": "code",
   "execution_count": 9,
   "id": "973c742e-a2f9-42d8-b239-b974239a0e53",
   "metadata": {},
   "outputs": [],
   "source": [
    "import metrics"
   ]
  },
  {
   "cell_type": "code",
   "execution_count": 14,
   "id": "0673e4e5-6a5c-4367-95e6-e7f2fa4e8e14",
   "metadata": {},
   "outputs": [
    {
     "name": "stdout",
     "output_type": "stream",
     "text": [
      "69.0646619796753 seconds\n",
      "1.1510776996612548 min\n"
     ]
    }
   ],
   "source": [
    "# # Compute all metrics from dataframes\n",
    "all_metrics = metrics.all_metrics(G_social, df_mention, df_reply, df_retweet)\n",
    "# prev Runtime\n",
    "# 69.0646619796753 seconds\n",
    "# 1.1510776996612548 min"
   ]
  },
  {
   "cell_type": "code",
   "execution_count": 13,
   "id": "63acf96c-7de7-49f4-94cd-6a58de917f32",
   "metadata": {},
   "outputs": [],
   "source": [
    "# Save all metrics in pickle form\n",
    "with open('./pickles/all_metrics.pickle', 'wb') as file:\n",
    "    pickle.dump(all_metrics, file)"
   ]
  },
  {
   "cell_type": "code",
   "execution_count": 11,
   "id": "55eead39-b89e-459d-b422-e74191c9fcab",
   "metadata": {},
   "outputs": [
    {
     "data": {
      "text/plain": [
       "dict_keys(['f1', 'f3', 'm1', 'm2', 'm3', 'm4', 'rt1', 'rt2', 'rt3', 'rp1', 'rp3'])"
      ]
     },
     "execution_count": 11,
     "metadata": {},
     "output_type": "execute_result"
    }
   ],
   "source": [
    "all_metrics.keys()"
   ]
  },
  {
   "cell_type": "code",
   "execution_count": 12,
   "id": "4c2a0302-7b1c-4d14-b59a-b12a279ce2c8",
   "metadata": {},
   "outputs": [
    {
     "data": {
      "text/html": [
       "<div>\n",
       "<style scoped>\n",
       "    .dataframe tbody tr th:only-of-type {\n",
       "        vertical-align: middle;\n",
       "    }\n",
       "\n",
       "    .dataframe tbody tr th {\n",
       "        vertical-align: top;\n",
       "    }\n",
       "\n",
       "    .dataframe thead th {\n",
       "        text-align: right;\n",
       "    }\n",
       "</style>\n",
       "<table border=\"1\" class=\"dataframe\">\n",
       "  <thead>\n",
       "    <tr style=\"text-align: right;\">\n",
       "      <th></th>\n",
       "      <th>nodeId</th>\n",
       "      <th>f1</th>\n",
       "      <th>f3</th>\n",
       "      <th>m1</th>\n",
       "      <th>m2</th>\n",
       "      <th>m3</th>\n",
       "      <th>m4</th>\n",
       "      <th>rp1</th>\n",
       "      <th>rp3</th>\n",
       "      <th>rt1</th>\n",
       "      <th>rt2</th>\n",
       "      <th>rt3</th>\n",
       "    </tr>\n",
       "  </thead>\n",
       "  <tbody>\n",
       "    <tr>\n",
       "      <th>1</th>\n",
       "      <td>1</td>\n",
       "      <td>16280</td>\n",
       "      <td>22</td>\n",
       "      <td>0.0</td>\n",
       "      <td>0.0</td>\n",
       "      <td>0.0</td>\n",
       "      <td>0.0</td>\n",
       "      <td>0.0</td>\n",
       "      <td>0.0</td>\n",
       "      <td>0.0</td>\n",
       "      <td>0.0</td>\n",
       "      <td>0.0</td>\n",
       "    </tr>\n",
       "    <tr>\n",
       "      <th>2</th>\n",
       "      <td>2</td>\n",
       "      <td>4707</td>\n",
       "      <td>77</td>\n",
       "      <td>0.0</td>\n",
       "      <td>0.0</td>\n",
       "      <td>2.0</td>\n",
       "      <td>2.0</td>\n",
       "      <td>0.0</td>\n",
       "      <td>1.0</td>\n",
       "      <td>1.0</td>\n",
       "      <td>0.0</td>\n",
       "      <td>0.0</td>\n",
       "    </tr>\n",
       "    <tr>\n",
       "      <th>3</th>\n",
       "      <td>3</td>\n",
       "      <td>137</td>\n",
       "      <td>25</td>\n",
       "      <td>0.0</td>\n",
       "      <td>0.0</td>\n",
       "      <td>0.0</td>\n",
       "      <td>0.0</td>\n",
       "      <td>0.0</td>\n",
       "      <td>0.0</td>\n",
       "      <td>1.0</td>\n",
       "      <td>0.0</td>\n",
       "      <td>0.0</td>\n",
       "    </tr>\n",
       "    <tr>\n",
       "      <th>4</th>\n",
       "      <td>4</td>\n",
       "      <td>8643</td>\n",
       "      <td>402</td>\n",
       "      <td>7.0</td>\n",
       "      <td>6.0</td>\n",
       "      <td>106.0</td>\n",
       "      <td>104.0</td>\n",
       "      <td>1.0</td>\n",
       "      <td>3.0</td>\n",
       "      <td>7.0</td>\n",
       "      <td>86.0</td>\n",
       "      <td>77.0</td>\n",
       "    </tr>\n",
       "    <tr>\n",
       "      <th>5</th>\n",
       "      <td>5</td>\n",
       "      <td>2194</td>\n",
       "      <td>58</td>\n",
       "      <td>0.0</td>\n",
       "      <td>0.0</td>\n",
       "      <td>4.0</td>\n",
       "      <td>4.0</td>\n",
       "      <td>0.0</td>\n",
       "      <td>1.0</td>\n",
       "      <td>0.0</td>\n",
       "      <td>24.0</td>\n",
       "      <td>24.0</td>\n",
       "    </tr>\n",
       "    <tr>\n",
       "      <th>...</th>\n",
       "      <td>...</td>\n",
       "      <td>...</td>\n",
       "      <td>...</td>\n",
       "      <td>...</td>\n",
       "      <td>...</td>\n",
       "      <td>...</td>\n",
       "      <td>...</td>\n",
       "      <td>...</td>\n",
       "      <td>...</td>\n",
       "      <td>...</td>\n",
       "      <td>...</td>\n",
       "      <td>...</td>\n",
       "    </tr>\n",
       "    <tr>\n",
       "      <th>456622</th>\n",
       "      <td>456622</td>\n",
       "      <td>0</td>\n",
       "      <td>2</td>\n",
       "      <td>0.0</td>\n",
       "      <td>0.0</td>\n",
       "      <td>0.0</td>\n",
       "      <td>0.0</td>\n",
       "      <td>0.0</td>\n",
       "      <td>0.0</td>\n",
       "      <td>1.0</td>\n",
       "      <td>0.0</td>\n",
       "      <td>0.0</td>\n",
       "    </tr>\n",
       "    <tr>\n",
       "      <th>456623</th>\n",
       "      <td>456623</td>\n",
       "      <td>0</td>\n",
       "      <td>12</td>\n",
       "      <td>0.0</td>\n",
       "      <td>0.0</td>\n",
       "      <td>0.0</td>\n",
       "      <td>0.0</td>\n",
       "      <td>0.0</td>\n",
       "      <td>0.0</td>\n",
       "      <td>0.0</td>\n",
       "      <td>0.0</td>\n",
       "      <td>0.0</td>\n",
       "    </tr>\n",
       "    <tr>\n",
       "      <th>456624</th>\n",
       "      <td>456624</td>\n",
       "      <td>0</td>\n",
       "      <td>1</td>\n",
       "      <td>0.0</td>\n",
       "      <td>0.0</td>\n",
       "      <td>0.0</td>\n",
       "      <td>0.0</td>\n",
       "      <td>0.0</td>\n",
       "      <td>0.0</td>\n",
       "      <td>0.0</td>\n",
       "      <td>0.0</td>\n",
       "      <td>0.0</td>\n",
       "    </tr>\n",
       "    <tr>\n",
       "      <th>456625</th>\n",
       "      <td>456625</td>\n",
       "      <td>0</td>\n",
       "      <td>1</td>\n",
       "      <td>0.0</td>\n",
       "      <td>0.0</td>\n",
       "      <td>0.0</td>\n",
       "      <td>0.0</td>\n",
       "      <td>0.0</td>\n",
       "      <td>0.0</td>\n",
       "      <td>0.0</td>\n",
       "      <td>0.0</td>\n",
       "      <td>0.0</td>\n",
       "    </tr>\n",
       "    <tr>\n",
       "      <th>456626</th>\n",
       "      <td>456626</td>\n",
       "      <td>0</td>\n",
       "      <td>1</td>\n",
       "      <td>0.0</td>\n",
       "      <td>0.0</td>\n",
       "      <td>0.0</td>\n",
       "      <td>0.0</td>\n",
       "      <td>0.0</td>\n",
       "      <td>0.0</td>\n",
       "      <td>0.0</td>\n",
       "      <td>0.0</td>\n",
       "      <td>0.0</td>\n",
       "    </tr>\n",
       "  </tbody>\n",
       "</table>\n",
       "<p>456626 rows × 12 columns</p>\n",
       "</div>"
      ],
      "text/plain": [
       "        nodeId     f1   f3   m1   m2     m3     m4  rp1  rp3  rt1   rt2   rt3\n",
       "1            1  16280   22  0.0  0.0    0.0    0.0  0.0  0.0  0.0   0.0   0.0\n",
       "2            2   4707   77  0.0  0.0    2.0    2.0  0.0  1.0  1.0   0.0   0.0\n",
       "3            3    137   25  0.0  0.0    0.0    0.0  0.0  0.0  1.0   0.0   0.0\n",
       "4            4   8643  402  7.0  6.0  106.0  104.0  1.0  3.0  7.0  86.0  77.0\n",
       "5            5   2194   58  0.0  0.0    4.0    4.0  0.0  1.0  0.0  24.0  24.0\n",
       "...        ...    ...  ...  ...  ...    ...    ...  ...  ...  ...   ...   ...\n",
       "456622  456622      0    2  0.0  0.0    0.0    0.0  0.0  0.0  1.0   0.0   0.0\n",
       "456623  456623      0   12  0.0  0.0    0.0    0.0  0.0  0.0  0.0   0.0   0.0\n",
       "456624  456624      0    1  0.0  0.0    0.0    0.0  0.0  0.0  0.0   0.0   0.0\n",
       "456625  456625      0    1  0.0  0.0    0.0    0.0  0.0  0.0  0.0   0.0   0.0\n",
       "456626  456626      0    1  0.0  0.0    0.0    0.0  0.0  0.0  0.0   0.0   0.0\n",
       "\n",
       "[456626 rows x 12 columns]"
      ]
     },
     "execution_count": 12,
     "metadata": {},
     "output_type": "execute_result"
    }
   ],
   "source": [
    "# Metrics stored in dataframe\n",
    "df_metrics = pd.DataFrame()\n",
    "df_metrics['nodeId'] = G_social.nodes()\n",
    "\n",
    "f1_dict = all_metrics['f1']\n",
    "f3_dict = all_metrics['f3']\n",
    "m1_dict = all_metrics['m1']\n",
    "m2_dict = all_metrics['m2']\n",
    "m3_dict = all_metrics['m3']\n",
    "m4_dict = all_metrics['m4']\n",
    "rp1_dict = all_metrics['rp1']\n",
    "rp3_dict = all_metrics['rp3']\n",
    "rt1_dict = all_metrics['rt1']\n",
    "rt2_dict = all_metrics['rt2']\n",
    "rt3_dict = all_metrics['rt3']\n",
    "\n",
    "from utilities import list_of_values\n",
    "df_metrics['f1'] = list_of_values(f1_dict) # [dict(f1_dict)[key] for key in dict(f1_dict).keys()]\n",
    "df_metrics['f3'] = list_of_values(f3_dict) \n",
    "df_metrics['m1'] = list_of_values(m1_dict) \n",
    "df_metrics['m2'] = list_of_values(m2_dict) \n",
    "df_metrics['m3'] = list_of_values(m3_dict) \n",
    "df_metrics['m4'] = list_of_values(m4_dict) \n",
    "df_metrics['rp1'] = list_of_values(rp1_dict) \n",
    "df_metrics['rp3'] = list_of_values(rp3_dict) \n",
    "df_metrics['rt1'] = list_of_values(rt1_dict) \n",
    "df_metrics['rt2'] = list_of_values(rt2_dict) \n",
    "df_metrics['rt3'] = list_of_values(rt3_dict) \n",
    "df_metrics"
   ]
  },
  {
   "cell_type": "code",
   "execution_count": 12,
   "id": "30931551-9bf2-40b1-acd2-9130483a6944",
   "metadata": {},
   "outputs": [],
   "source": [
    "# # Save metrics dataframe in pickle form\n",
    "with open('./pickles/df_metrics.pickle', 'wb') as file:\n",
    "    pickle.dump(df_metrics, file)"
   ]
  },
  {
   "cell_type": "code",
   "execution_count": 13,
   "id": "846147a8-f68b-4cab-8252-10e2c73602e2",
   "metadata": {},
   "outputs": [],
   "source": [
    "import measures"
   ]
  },
  {
   "cell_type": "code",
   "execution_count": 14,
   "id": "e7b5b7fc-3832-47f8-94e8-16ecc3c96665",
   "metadata": {},
   "outputs": [
    {
     "name": "stdout",
     "output_type": "stream",
     "text": [
      "71.60240054130554 seconds\n",
      "1.1933733423550923 min\n"
     ]
    }
   ],
   "source": [
    "# betweeness\n",
    "start = time.time()\n",
    "betweeness_dict = nx.betweenness_centrality(G_social, k = 1)\n",
    "end = time.time()\n",
    "print(f'{end - start} seconds')\n",
    "print(f'{(end - start)/60.} min')\n",
    "# Runtime\n",
    "# 98.08658075332642 seconds\n",
    "# 1.6347763458887736 min"
   ]
  },
  {
   "cell_type": "code",
   "execution_count": 15,
   "id": "8341dfd8-f02c-4921-95ac-c943bb5157e2",
   "metadata": {},
   "outputs": [],
   "source": [
    "# Save betweeness in pickle form\n",
    "with open('./pickles/betweeness_dict_k1.pickle', 'wb') as file:\n",
    "    pickle.dump(betweeness_dict, file)"
   ]
  },
  {
   "cell_type": "code",
   "execution_count": 70,
   "id": "b6175c9d-d909-4884-a152-78a4bf04f392",
   "metadata": {},
   "outputs": [
    {
     "name": "stdout",
     "output_type": "stream",
     "text": [
      "509.9132812023163 seconds\n",
      "8.49855468670527 min\n"
     ]
    }
   ],
   "source": [
    "start = time.time()\n",
    "betweeness_dict = nx.betweenness_centrality(G_social, k = 10)\n",
    "end = time.time()\n",
    "print(f'{end - start} seconds')\n",
    "print(f'{(end - start)/60.} min')\n",
    "# prev Runtime\n",
    "# 590.0320670604706 seconds\n",
    "# 9.833867784341177 min"
   ]
  },
  {
   "cell_type": "code",
   "execution_count": 71,
   "id": "73ddd73d-998e-4bd6-bfee-be9c7a70136a",
   "metadata": {},
   "outputs": [],
   "source": [
    "# save betweeness in pickle form\n",
    "with open('./pickles/betweeness_dictk10.pickle', 'wb') as file:\n",
    "    pickle.dump(betweeness_dict, file)"
   ]
  },
  {
   "cell_type": "code",
   "execution_count": 135,
   "id": "5d1bdfe1-5fa4-4ab3-b5d5-ef890da2cd00",
   "metadata": {},
   "outputs": [],
   "source": [
    "# start = time.time()\n",
    "# closeness_dict = nx.closeness_centrality(G_social)\n",
    "# end = time.time()\n",
    "# print(f'{end - start} seconds')\n",
    "# print(f'{(end - start)/60.} min')"
   ]
  },
  {
   "cell_type": "code",
   "execution_count": 20,
   "id": "496040d8-1b78-4ece-9a2f-be5dab6977d3",
   "metadata": {},
   "outputs": [],
   "source": [
    "# start = time.time()\n",
    "\n",
    "# katz_dict = nx.katz_centrality(G_social, max_iter=5, tol=1e-02)\n",
    "\n",
    "# end = time.time()\n",
    "# print(f'{end - start} seconds')\n",
    "# print(f'{(end - start)/60.} min')"
   ]
  },
  {
   "cell_type": "code",
   "execution_count": 72,
   "id": "a0dfcc10-921d-4cae-82b6-ab0c3149f724",
   "metadata": {},
   "outputs": [
    {
     "name": "stdout",
     "output_type": "stream",
     "text": [
      "21.40028715133667 seconds\n",
      "0.35667145252227783 min\n"
     ]
    }
   ],
   "source": [
    "# # Compute eigenvector\n",
    "start = time.time()\n",
    "\n",
    "eigenvector_dict = nx.eigenvector_centrality(G_social, tol=1e-02)\n",
    "\n",
    "end = time.time()\n",
    "print(f'{end - start} seconds')\n",
    "print(f'{(end - start)/60.} min')\n",
    "\n",
    "# Runtime\n",
    "# 20.315030813217163 seconds\n",
    "# 0.3385838468869527 min"
   ]
  },
  {
   "cell_type": "code",
   "execution_count": 73,
   "id": "aceff6b4-061a-418f-ae17-5e6a75015bb4",
   "metadata": {},
   "outputs": [],
   "source": [
    "# save eigenvector in pickle form\n",
    "with open('./pickles/eigenvector_dict_tol1e02.pickle', 'wb') as file:\n",
    "    pickle.dump(eigenvector_dict, file)"
   ]
  },
  {
   "cell_type": "code",
   "execution_count": 15,
   "id": "6f3f94cc-c5de-48a9-8726-8eba515e8d41",
   "metadata": {},
   "outputs": [
    {
     "name": "stdout",
     "output_type": "stream",
     "text": [
      "348.38092517852783 seconds\n",
      "5.806348752975464 min\n"
     ]
    }
   ],
   "source": [
    "# # Compute PageRank \n",
    "start = time.time()\n",
    "\n",
    "pagerank_dict = nx.pagerank(G_social,tol=1e-02)\n",
    "\n",
    "end = time.time()\n",
    "print(f'{end - start} seconds')\n",
    "print(f'{(end - start)/60.} min')\n",
    "\n",
    "# prev Runtime\n",
    "# 351.44464778900146 seconds\n",
    "# 5.857410796483358 min"
   ]
  },
  {
   "cell_type": "code",
   "execution_count": 16,
   "id": "8dfe34f7-06f8-4833-80c0-fdf9dc9fb4fb",
   "metadata": {},
   "outputs": [],
   "source": [
    "# Save pagerank in pickle form\n",
    "with open('./pickles/pagerank_dict_tol1e032.pickle', 'wb') as file:\n",
    "    pickle.dump(pagerank_dict, file)"
   ]
  },
  {
   "cell_type": "code",
   "execution_count": 19,
   "id": "0616695f-dcee-46c8-8a17-884bc2b7ecad",
   "metadata": {},
   "outputs": [
    {
     "name": "stdout",
     "output_type": "stream",
     "text": [
      "2.2150933742523193 seconds\n",
      "0.03691822290420532 min\n"
     ]
    }
   ],
   "source": [
    "# degree centrality\n",
    "start = time.time()\n",
    "degc_dict = nx.degree_centrality(G_social)\n",
    "end = time.time()\n",
    "print(f'{end - start} seconds')\n",
    "print(f'{(end - start)/60.} min')"
   ]
  },
  {
   "cell_type": "code",
   "execution_count": 20,
   "id": "085b1c3f-ddaf-43a3-bbf3-c2178bc9834e",
   "metadata": {},
   "outputs": [
    {
     "name": "stdout",
     "output_type": "stream",
     "text": [
      "0.16405415534973145 seconds\n",
      "0.002734235922495524 min\n"
     ]
    }
   ],
   "source": [
    "#  followerRank\n",
    "start = time.time()\n",
    "followerRank_dict = measures.follower_rank(G_social, f1_dict, f3_dict)\n",
    "end = time.time()\n",
    "print(f'{end - start} seconds')\n",
    "print(f'{(end - start)/60.} min')"
   ]
  },
  {
   "cell_type": "code",
   "execution_count": 21,
   "id": "a6ffa127-8d69-468c-a0ce-354038d0cd3c",
   "metadata": {},
   "outputs": [
    {
     "name": "stdout",
     "output_type": "stream",
     "text": [
      "0.21016287803649902 seconds\n",
      "0.0035027146339416506 min\n"
     ]
    }
   ],
   "source": [
    "# TFF\n",
    "start = time.time()\n",
    "tff_dict = measures.tff(G_social,f1_dict, f3_dict)\n",
    "end = time.time()\n",
    "print(f'{end - start} seconds')\n",
    "print(f'{(end - start)/60.} min')"
   ]
  },
  {
   "cell_type": "code",
   "execution_count": 22,
   "id": "70e51493-07c4-417c-bb1c-ca2748eca6d2",
   "metadata": {},
   "outputs": [
    {
     "name": "stdout",
     "output_type": "stream",
     "text": [
      "0.7197210788726807 seconds\n",
      "0.011995351314544678 min\n"
     ]
    }
   ],
   "source": [
    "# popularity\n",
    "start = time.time()\n",
    "pop_dict = measures.popularity(G_social, f1_dict)\n",
    "end = time.time()\n",
    "print(f'{end - start} seconds')\n",
    "print(f'{(end - start)/60.} min')"
   ]
  },
  {
   "cell_type": "code",
   "execution_count": 23,
   "id": "7a9e5bff-fdd1-4506-9a4a-c0d0c3c30fa8",
   "metadata": {},
   "outputs": [
    {
     "name": "stdout",
     "output_type": "stream",
     "text": [
      "0.8100881576538086 seconds\n",
      "0.013501469294230144 min\n"
     ]
    }
   ],
   "source": [
    "# A-score\n",
    "start = time.time()\n",
    "a_score_dict = measures.a_score(G_social, f1_dict, m4_dict, rp3_dict, rt3_dict)\n",
    "end = time.time()\n",
    "print(f'{end - start} seconds')\n",
    "print(f'{(end - start)/60.} min')"
   ]
  },
  {
   "cell_type": "code",
   "execution_count": 24,
   "id": "a5324e81-313e-4edd-9544-1bb6aaf5d565",
   "metadata": {},
   "outputs": [
    {
     "name": "stdout",
     "output_type": "stream",
     "text": [
      "0.16015386581420898 seconds\n",
      "0.0026692310969034833 min\n"
     ]
    }
   ],
   "source": [
    "# RI\n",
    "start = time.time()\n",
    "retweet_impact_dict = measures.retweet_impact(G_social, rt2_dict, rt3_dict)\n",
    "end = time.time()\n",
    "print(f'{end - start} seconds')\n",
    "print(f'{(end - start)/60.} min')"
   ]
  },
  {
   "cell_type": "code",
   "execution_count": 25,
   "id": "461ccfcd-e051-4ff9-aa52-9fdff5d65ea6",
   "metadata": {},
   "outputs": [
    {
     "name": "stdout",
     "output_type": "stream",
     "text": [
      "0.1699974536895752 seconds\n",
      "0.002833290894826253 min\n"
     ]
    }
   ],
   "source": [
    "# MI\n",
    "start = time.time()\n",
    "mention_impact_dict = measures.mention_impact(G_social, m1_dict, m2_dict, m3_dict, m4_dict)\n",
    "end = time.time()\n",
    "print(f'{end - start} seconds')\n",
    "print(f'{(end - start)/60.} min')"
   ]
  },
  {
   "cell_type": "code",
   "execution_count": 26,
   "id": "633edf32-22b6-4efd-acbc-dbb97b154930",
   "metadata": {},
   "outputs": [
    {
     "data": {
      "text/html": [
       "<div>\n",
       "<style scoped>\n",
       "    .dataframe tbody tr th:only-of-type {\n",
       "        vertical-align: middle;\n",
       "    }\n",
       "\n",
       "    .dataframe tbody tr th {\n",
       "        vertical-align: top;\n",
       "    }\n",
       "\n",
       "    .dataframe thead th {\n",
       "        text-align: right;\n",
       "    }\n",
       "</style>\n",
       "<table border=\"1\" class=\"dataframe\">\n",
       "  <thead>\n",
       "    <tr style=\"text-align: right;\">\n",
       "      <th></th>\n",
       "      <th>nodeId</th>\n",
       "      <th>degc</th>\n",
       "      <th>betwc</th>\n",
       "      <th>eigenvectorc</th>\n",
       "      <th>pagerankc</th>\n",
       "      <th>follower_rank</th>\n",
       "      <th>tff</th>\n",
       "      <th>popularity</th>\n",
       "      <th>a_score</th>\n",
       "      <th>retweet_imp</th>\n",
       "      <th>mention_imp</th>\n",
       "    </tr>\n",
       "  </thead>\n",
       "  <tbody>\n",
       "    <tr>\n",
       "      <th>1</th>\n",
       "      <td>1</td>\n",
       "      <td>0.035701</td>\n",
       "      <td>0.079047</td>\n",
       "      <td>7.556036e-03</td>\n",
       "      <td>3.023522e-02</td>\n",
       "      <td>0.998650</td>\n",
       "      <td>740.000000</td>\n",
       "      <td>1.0</td>\n",
       "      <td>16280.000000</td>\n",
       "      <td>0.000000</td>\n",
       "      <td>0.000000</td>\n",
       "    </tr>\n",
       "    <tr>\n",
       "      <th>2</th>\n",
       "      <td>2</td>\n",
       "      <td>0.010477</td>\n",
       "      <td>0.001071</td>\n",
       "      <td>2.893191e-02</td>\n",
       "      <td>2.317112e-04</td>\n",
       "      <td>0.983905</td>\n",
       "      <td>61.129870</td>\n",
       "      <td>1.0</td>\n",
       "      <td>4710.000000</td>\n",
       "      <td>0.000000</td>\n",
       "      <td>0.000000</td>\n",
       "    </tr>\n",
       "    <tr>\n",
       "      <th>3</th>\n",
       "      <td>3</td>\n",
       "      <td>0.000355</td>\n",
       "      <td>0.000108</td>\n",
       "      <td>2.099042e-03</td>\n",
       "      <td>5.675661e-06</td>\n",
       "      <td>0.845679</td>\n",
       "      <td>5.480000</td>\n",
       "      <td>1.0</td>\n",
       "      <td>137.000000</td>\n",
       "      <td>0.000000</td>\n",
       "      <td>0.000000</td>\n",
       "    </tr>\n",
       "    <tr>\n",
       "      <th>4</th>\n",
       "      <td>4</td>\n",
       "      <td>0.019808</td>\n",
       "      <td>0.013509</td>\n",
       "      <td>5.788731e-02</td>\n",
       "      <td>3.825706e-04</td>\n",
       "      <td>0.955556</td>\n",
       "      <td>21.500000</td>\n",
       "      <td>1.0</td>\n",
       "      <td>8750.000169</td>\n",
       "      <td>373.567266</td>\n",
       "      <td>479.763119</td>\n",
       "    </tr>\n",
       "    <tr>\n",
       "      <th>5</th>\n",
       "      <td>5</td>\n",
       "      <td>0.004932</td>\n",
       "      <td>0.000749</td>\n",
       "      <td>2.487288e-02</td>\n",
       "      <td>7.903862e-05</td>\n",
       "      <td>0.974245</td>\n",
       "      <td>37.827586</td>\n",
       "      <td>1.0</td>\n",
       "      <td>2199.000053</td>\n",
       "      <td>76.273292</td>\n",
       "      <td>0.000000</td>\n",
       "    </tr>\n",
       "    <tr>\n",
       "      <th>...</th>\n",
       "      <td>...</td>\n",
       "      <td>...</td>\n",
       "      <td>...</td>\n",
       "      <td>...</td>\n",
       "      <td>...</td>\n",
       "      <td>...</td>\n",
       "      <td>...</td>\n",
       "      <td>...</td>\n",
       "      <td>...</td>\n",
       "      <td>...</td>\n",
       "      <td>...</td>\n",
       "    </tr>\n",
       "    <tr>\n",
       "      <th>456622</th>\n",
       "      <td>456622</td>\n",
       "      <td>0.000004</td>\n",
       "      <td>0.000000</td>\n",
       "      <td>4.560751e-10</td>\n",
       "      <td>3.284964e-07</td>\n",
       "      <td>0.000000</td>\n",
       "      <td>0.000000</td>\n",
       "      <td>0.0</td>\n",
       "      <td>0.000000</td>\n",
       "      <td>0.000000</td>\n",
       "      <td>0.000000</td>\n",
       "    </tr>\n",
       "    <tr>\n",
       "      <th>456623</th>\n",
       "      <td>456623</td>\n",
       "      <td>0.000026</td>\n",
       "      <td>0.000000</td>\n",
       "      <td>4.560751e-10</td>\n",
       "      <td>3.284964e-07</td>\n",
       "      <td>0.000000</td>\n",
       "      <td>0.000000</td>\n",
       "      <td>0.0</td>\n",
       "      <td>0.000000</td>\n",
       "      <td>0.000000</td>\n",
       "      <td>0.000000</td>\n",
       "    </tr>\n",
       "    <tr>\n",
       "      <th>456624</th>\n",
       "      <td>456624</td>\n",
       "      <td>0.000002</td>\n",
       "      <td>0.000000</td>\n",
       "      <td>4.560751e-10</td>\n",
       "      <td>3.284964e-07</td>\n",
       "      <td>0.000000</td>\n",
       "      <td>0.000000</td>\n",
       "      <td>0.0</td>\n",
       "      <td>0.000000</td>\n",
       "      <td>0.000000</td>\n",
       "      <td>0.000000</td>\n",
       "    </tr>\n",
       "    <tr>\n",
       "      <th>456625</th>\n",
       "      <td>456625</td>\n",
       "      <td>0.000002</td>\n",
       "      <td>0.000000</td>\n",
       "      <td>4.560751e-10</td>\n",
       "      <td>3.284964e-07</td>\n",
       "      <td>0.000000</td>\n",
       "      <td>0.000000</td>\n",
       "      <td>0.0</td>\n",
       "      <td>0.000000</td>\n",
       "      <td>0.000000</td>\n",
       "      <td>0.000000</td>\n",
       "    </tr>\n",
       "    <tr>\n",
       "      <th>456626</th>\n",
       "      <td>456626</td>\n",
       "      <td>0.000002</td>\n",
       "      <td>0.000000</td>\n",
       "      <td>4.560751e-10</td>\n",
       "      <td>3.284964e-07</td>\n",
       "      <td>0.000000</td>\n",
       "      <td>0.000000</td>\n",
       "      <td>0.0</td>\n",
       "      <td>0.000000</td>\n",
       "      <td>0.000000</td>\n",
       "      <td>0.000000</td>\n",
       "    </tr>\n",
       "  </tbody>\n",
       "</table>\n",
       "<p>456626 rows × 11 columns</p>\n",
       "</div>"
      ],
      "text/plain": [
       "        nodeId      degc     betwc  eigenvectorc     pagerankc  follower_rank  \\\n",
       "1            1  0.035701  0.079047  7.556036e-03  3.023522e-02       0.998650   \n",
       "2            2  0.010477  0.001071  2.893191e-02  2.317112e-04       0.983905   \n",
       "3            3  0.000355  0.000108  2.099042e-03  5.675661e-06       0.845679   \n",
       "4            4  0.019808  0.013509  5.788731e-02  3.825706e-04       0.955556   \n",
       "5            5  0.004932  0.000749  2.487288e-02  7.903862e-05       0.974245   \n",
       "...        ...       ...       ...           ...           ...            ...   \n",
       "456622  456622  0.000004  0.000000  4.560751e-10  3.284964e-07       0.000000   \n",
       "456623  456623  0.000026  0.000000  4.560751e-10  3.284964e-07       0.000000   \n",
       "456624  456624  0.000002  0.000000  4.560751e-10  3.284964e-07       0.000000   \n",
       "456625  456625  0.000002  0.000000  4.560751e-10  3.284964e-07       0.000000   \n",
       "456626  456626  0.000002  0.000000  4.560751e-10  3.284964e-07       0.000000   \n",
       "\n",
       "               tff  popularity       a_score  retweet_imp  mention_imp  \n",
       "1       740.000000         1.0  16280.000000     0.000000     0.000000  \n",
       "2        61.129870         1.0   4710.000000     0.000000     0.000000  \n",
       "3         5.480000         1.0    137.000000     0.000000     0.000000  \n",
       "4        21.500000         1.0   8750.000169   373.567266   479.763119  \n",
       "5        37.827586         1.0   2199.000053    76.273292     0.000000  \n",
       "...            ...         ...           ...          ...          ...  \n",
       "456622    0.000000         0.0      0.000000     0.000000     0.000000  \n",
       "456623    0.000000         0.0      0.000000     0.000000     0.000000  \n",
       "456624    0.000000         0.0      0.000000     0.000000     0.000000  \n",
       "456625    0.000000         0.0      0.000000     0.000000     0.000000  \n",
       "456626    0.000000         0.0      0.000000     0.000000     0.000000  \n",
       "\n",
       "[456626 rows x 11 columns]"
      ]
     },
     "execution_count": 26,
     "metadata": {},
     "output_type": "execute_result"
    }
   ],
   "source": [
    "df_social_centralities = pd.DataFrame()\n",
    "df_social_centralities['nodeId'] = G_social.nodes()\n",
    "df_social_centralities['degc'] = list_of_values(degc_dict)\n",
    "df_social_centralities['betwc'] = list_of_values(betweeness_dict)\n",
    "# df_social_centralities['closc'] = list_of_values(closeness_dict)\n",
    "df_social_centralities['eigenvectorc'] = list_of_values(eigenvector_dict)\n",
    "df_social_centralities['pagerankc'] = list_of_values(pagerank_dict)\n",
    "df_social_centralities['follower_rank'] = list_of_values(followerRank_dict)\n",
    "df_social_centralities['tff'] = list_of_values(tff_dict)\n",
    "df_social_centralities['popularity'] = list_of_values(pop_dict)\n",
    "df_social_centralities['a_score'] = list_of_values(a_score_dict)\n",
    "df_social_centralities['retweet_imp'] = list_of_values(retweet_impact_dict)\n",
    "df_social_centralities['mention_imp'] = list_of_values(mention_impact_dict)\n",
    "df_social_centralities = df_social_centralities.replace({'infty': 0.0, '-infty': 0.0})\n",
    "df_social_centralities"
   ]
  },
  {
   "cell_type": "code",
   "execution_count": 84,
   "id": "1f6c8882-3842-4dbf-b3b2-89a9539fd782",
   "metadata": {},
   "outputs": [],
   "source": [
    "# top 1000 nodes for each measure\n",
    "top_follower_rank = set(df_social_centralities.sort_values(by = 'follower_rank', ascending = False).head(1000).nodeId)\n",
    "top_tff = set(df_social_centralities.sort_values(by = 'tff', ascending = False).head(1000).nodeId)\n",
    "top_popularity = set(df_social_centralities.sort_values(by = 'popularity', ascending = False).head(1000).nodeId)\n",
    "top_a_score = set(df_social_centralities.sort_values(by = 'a_score', ascending = False).head(1000).nodeId)\n",
    "top_retweet_imp = set(df_social_centralities.sort_values(by = 'retweet_imp', ascending = False).head(1000).nodeId)\n",
    "top_mention_imp = set(df_social_centralities.sort_values(by = 'mention_imp', ascending = False).head(1000).nodeId)\n",
    "top_mention_imp = set(df_social_centralities.sort_values(by = 'mention_imp', ascending = False).head(1000).nodeId)\n",
    "top_pagerank = set(df_social_centralities.sort_values(by = 'pagerankc', ascending = False).head(1000).nodeId)\n",
    "top_degc = set(df_social_centralities.sort_values(by = 'degc', ascending = False).head(1000).nodeId)\n",
    "top_betw = set(df_social_centralities.sort_values(by = 'betwc', ascending = False).head(1000).nodeId)\n",
    "top_eigc = set(df_social_centralities.sort_values(by = 'eigenvectorc', ascending = False).head(1000).nodeId)"
   ]
  },
  {
   "cell_type": "code",
   "execution_count": 28,
   "id": "5266eb63-9aec-45b7-a932-d449eb4ec106",
   "metadata": {},
   "outputs": [],
   "source": [
    "# top_1000_nodes = top_follower_rank.union(top_tff).union(top_popularity).union(top_a_score).union(top_retweet_imp).union(top_mention_imp).union(top_pagerank).union(top_degc).union(top_betw)\n",
    "top_1000_nodes_for_each_measure = top_follower_rank.union(top_tff).union(top_popularity).union(top_a_score).union(top_retweet_imp).union(top_mention_imp).union(top_degc).union(top_betw)"
   ]
  },
  {
   "cell_type": "code",
   "execution_count": 29,
   "id": "5d6d4e1f-b9bc-4e13-9a0a-366ced60e997",
   "metadata": {},
   "outputs": [
    {
     "data": {
      "text/plain": [
       "4426"
      ]
     },
     "execution_count": 29,
     "metadata": {},
     "output_type": "execute_result"
    }
   ],
   "source": [
    "len(top_1000_nodes_for_each_measure)"
   ]
  },
  {
   "cell_type": "code",
   "execution_count": 30,
   "id": "671c8d93-f0dc-4b43-9157-106cc2e99d95",
   "metadata": {},
   "outputs": [],
   "source": [
    "top_1000_nodes = list(top_1000_nodes_for_each_measure)"
   ]
  },
  {
   "cell_type": "code",
   "execution_count": 31,
   "id": "964f3544-af3c-4d2f-8d51-04553ced4a64",
   "metadata": {},
   "outputs": [
    {
     "name": "stdout",
     "output_type": "stream",
     "text": [
      "0.010117530822753906 seconds\n",
      "0.0001686255137125651 min\n"
     ]
    }
   ],
   "source": [
    "start = time.time()\n",
    "\n",
    "G_top_1000_nodes = G_social.subgraph(top_1000_nodes)\n",
    "\n",
    "end = time.time()\n",
    "print(f'{end - start} seconds')\n",
    "print(f'{(end - start)/60.} min')"
   ]
  },
  {
   "cell_type": "code",
   "execution_count": 32,
   "id": "0afe42d7-1011-4ba6-964d-c38fbf859186",
   "metadata": {},
   "outputs": [
    {
     "name": "stdout",
     "output_type": "stream",
     "text": [
      "124.56958293914795 seconds\n",
      "2.076159715652466 min\n"
     ]
    }
   ],
   "source": [
    "start = time.time()\n",
    "\n",
    "nd_positions = nx.spring_layout(G_top_1000_nodes)\n",
    "\n",
    "end = time.time()\n",
    "print(f'{end - start} seconds')\n",
    "print(f'{(end - start)/60.} min')"
   ]
  },
  {
   "cell_type": "code",
   "execution_count": 34,
   "id": "4de48218-5256-43c2-a261-24f238f8ea56",
   "metadata": {},
   "outputs": [],
   "source": [
    "# save node positions in pickle form\n",
    "with open('./pickles/nd_positions.pickle', 'wb') as file:\n",
    "    pickle.dump(nd_positions, file)"
   ]
  },
  {
   "cell_type": "code",
   "execution_count": 35,
   "id": "cf468b0a-a54a-47db-ae87-1e2eeffd6e31",
   "metadata": {},
   "outputs": [],
   "source": [
    "from utilities import normalize_vector, factor_vector"
   ]
  },
  {
   "cell_type": "code",
   "execution_count": 85,
   "id": "3ef6720c-ab7f-4552-9876-f6e2b5f82e71",
   "metadata": {},
   "outputs": [],
   "source": [
    "scaling_factor = 1000.0\n",
    "top_1000_followerRank_normalized = [followerRank_dict[node] for node in list(top_1000_nodes)]\n",
    "top_1000_followerRank_normalized= normalize_vector(top_1000_followerRank_normalized)\n",
    "top_1000_followerRank_normalized = factor_vector(top_1000_followerRank_normalized, scaling_factor)\n",
    "\n",
    "top_1000_tff_normalized = [tff_dict[node] for node in list(top_1000_nodes)]\n",
    "top_1000_tff_normalized= normalize_vector(top_1000_tff_normalized)\n",
    "top_1000_tff_normalized = factor_vector(top_1000_tff_normalized, scaling_factor)\n",
    "\n",
    "top_1000_popularity_normalized = [pop_dict[node] for node in list(top_1000_nodes)]\n",
    "top_1000_popularity_normalized= normalize_vector(top_1000_popularity_normalized)\n",
    "top_1000_popularity_normalized = factor_vector(top_1000_popularity_normalized, scaling_factor)\n",
    "\n",
    "top_1000_a_score_normalized = [a_score_dict[node] for node in list(top_1000_nodes)]\n",
    "top_1000_a_score_normalized= normalize_vector(top_1000_a_score_normalized)\n",
    "top_1000_a_score_normalized = factor_vector(top_1000_a_score_normalized, scaling_factor)\n",
    "\n",
    "top_1000_retweet_impact_normalized = [retweet_impact_dict[node] for node in list(top_1000_nodes)]\n",
    "top_1000_retweet_impact_normalized= normalize_vector(top_1000_retweet_impact_normalized)\n",
    "top_1000_retweet_impact_normalized = factor_vector(top_1000_retweet_impact_normalized, scaling_factor)\n",
    "\n",
    "top_1000_mention_impact_normalized = [mention_impact_dict[node] for node in list(top_1000_nodes)]\n",
    "top_1000_mention_impact_normalized= normalize_vector(top_1000_mention_impact_normalized)\n",
    "top_1000_mention_impact_normalized = factor_vector(top_1000_mention_impact_normalized, scaling_factor)\n",
    "\n",
    "top_1000_pagerank_normalized = [pagerank_dict[node] for node in list(top_1000_nodes)]\n",
    "top_1000_pagerank_normalized= normalize_vector(top_1000_pagerank_normalized)\n",
    "top_1000_pagerank_normalized = factor_vector(top_1000_pagerank_normalized, scaling_factor)\n",
    "\n",
    "top_1000_degc_normalized = [degc_dict[node] for node in list(top_1000_nodes)]\n",
    "top_1000_degc_normalized= normalize_vector(top_1000_degc_normalized)\n",
    "top_1000_degc_normalized = factor_vector(top_1000_degc_normalized, scaling_factor)\n",
    "\n",
    "top_1000_betwc_normalized = [betweeness_dict[node] for node in list(top_1000_nodes)]\n",
    "top_1000_betwc_normalized= normalize_vector(top_1000_betwc_normalized)\n",
    "top_1000_betwc_normalized = factor_vector(top_1000_betwc_normalized, scaling_factor)\n",
    "\n",
    "top_1000_eigc_normalized = [eigenvector_dict[node] for node in list(top_1000_nodes)]\n",
    "top_1000_eigc_normalized= normalize_vector(top_1000_eigc_normalized)\n",
    "top_1000_eigc_normalized = factor_vector(top_1000_eigc_normalized, scaling_factor)"
   ]
  },
  {
   "cell_type": "code",
   "execution_count": null,
   "id": "265537a9-565d-49d2-9146-c023604ea6a4",
   "metadata": {},
   "outputs": [],
   "source": []
  }
 ],
 "metadata": {
  "kernelspec": {
   "display_name": "Python 3 (ipykernel)",
   "language": "python",
   "name": "python3"
  },
  "language_info": {
   "codemirror_mode": {
    "name": "ipython",
    "version": 3
   },
   "file_extension": ".py",
   "mimetype": "text/x-python",
   "name": "python",
   "nbconvert_exporter": "python",
   "pygments_lexer": "ipython3",
   "version": "3.7.11"
  }
 },
 "nbformat": 4,
 "nbformat_minor": 5
}
