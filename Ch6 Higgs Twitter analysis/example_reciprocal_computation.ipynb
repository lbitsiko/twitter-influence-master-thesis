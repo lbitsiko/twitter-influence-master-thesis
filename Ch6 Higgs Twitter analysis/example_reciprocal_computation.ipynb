{
 "cells": [
  {
   "cell_type": "code",
   "execution_count": 2,
   "id": "71b1d3df-e4a2-4b7d-a3ab-851a5a6f0de2",
   "metadata": {},
   "outputs": [],
   "source": [
    "import numpy as np\n",
    "import networkx as nx\n",
    "import matplotlib.pyplot as plt\n",
    "import pandas as pd\n",
    "# %matplotlib widget"
   ]
  },
  {
   "cell_type": "code",
   "execution_count": 3,
   "id": "717e5a2b-3586-4b32-81be-cbb8ced67a0f",
   "metadata": {},
   "outputs": [
    {
     "data": {
      "text/html": [
       "<div>\n",
       "<style scoped>\n",
       "    .dataframe tbody tr th:only-of-type {\n",
       "        vertical-align: middle;\n",
       "    }\n",
       "\n",
       "    .dataframe tbody tr th {\n",
       "        vertical-align: top;\n",
       "    }\n",
       "\n",
       "    .dataframe thead th {\n",
       "        text-align: right;\n",
       "    }\n",
       "</style>\n",
       "<table border=\"1\" class=\"dataframe\">\n",
       "  <thead>\n",
       "    <tr style=\"text-align: right;\">\n",
       "      <th></th>\n",
       "      <th>A</th>\n",
       "      <th>B</th>\n",
       "    </tr>\n",
       "  </thead>\n",
       "  <tbody>\n",
       "    <tr>\n",
       "      <th>0</th>\n",
       "      <td>1</td>\n",
       "      <td>4</td>\n",
       "    </tr>\n",
       "    <tr>\n",
       "      <th>1</th>\n",
       "      <td>2</td>\n",
       "      <td>4</td>\n",
       "    </tr>\n",
       "    <tr>\n",
       "      <th>2</th>\n",
       "      <td>3</td>\n",
       "      <td>4</td>\n",
       "    </tr>\n",
       "    <tr>\n",
       "      <th>3</th>\n",
       "      <td>4</td>\n",
       "      <td>3</td>\n",
       "    </tr>\n",
       "    <tr>\n",
       "      <th>4</th>\n",
       "      <td>4</td>\n",
       "      <td>5</td>\n",
       "    </tr>\n",
       "  </tbody>\n",
       "</table>\n",
       "</div>"
      ],
      "text/plain": [
       "   A  B\n",
       "0  1  4\n",
       "1  2  4\n",
       "2  3  4\n",
       "3  4  3\n",
       "4  4  5"
      ]
     },
     "execution_count": 3,
     "metadata": {},
     "output_type": "execute_result"
    }
   ],
   "source": [
    "Aas = [1,2,3,4,4]\n",
    "Bbs = [4,4,4,3,5]\n",
    "df = pd.DataFrame()\n",
    "df['A'] = Aas\n",
    "df['B'] = Bbs\n",
    "df"
   ]
  },
  {
   "cell_type": "code",
   "execution_count": 4,
   "id": "14cfd9c8-914a-49e6-8a91-e3f8314d7617",
   "metadata": {},
   "outputs": [],
   "source": [
    "G = nx.from_pandas_edgelist(df, source = 'A', target = 'B', create_using=nx.DiGraph)"
   ]
  },
  {
   "cell_type": "code",
   "execution_count": 5,
   "id": "5afbf847-95ed-48c0-b4b2-849ae680c6fb",
   "metadata": {},
   "outputs": [
    {
     "data": {
      "image/png": "[encoded data removed]",
      "text/plain": [
       "<Figure size 432x288 with 1 Axes>"
      ]
     },
     "metadata": {},
     "output_type": "display_data"
    }
   ],
   "source": [
    "nx.draw_networkx(G, with_labels=True)"
   ]
  },
  {
   "cell_type": "code",
   "execution_count": 6,
   "id": "6e6efc2b-2c3a-4ccb-9f72-7ca1bed904d0",
   "metadata": {},
   "outputs": [
    {
     "name": "stdout",
     "output_type": "stream",
     "text": [
      "node 1 is a followee of: [4.0]\n",
      "\n",
      "node 4 is a followee of: [3.0, 5.0]\n",
      "\n",
      "node 2 is a followee of: [4.0]\n",
      "\n",
      "node 3 is a followee of: [4.0]\n",
      "\n",
      "node 5 is a followee of: []\n",
      "\n"
     ]
    }
   ],
   "source": [
    "for i in G.nodes():\n",
    "    i_is_a_followee_of = list(set(df.where(df.A == i).dropna().B))\n",
    "    print(f'node {i} is a followee of: {i_is_a_followee_of}')\n",
    "    print()"
   ]
  },
  {
   "cell_type": "code",
   "execution_count": 7,
   "id": "4f633cfd-11be-4a9d-a81c-f65b48db7527",
   "metadata": {},
   "outputs": [
    {
     "name": "stdout",
     "output_type": "stream",
     "text": [
      "followers of node 1: []\n",
      "\n",
      "followers of node 4: [1.0, 2.0, 3.0]\n",
      "\n",
      "followers of node 2: []\n",
      "\n",
      "followers of node 3: [4.0]\n",
      "\n",
      "followers of node 5: [4.0]\n",
      "\n"
     ]
    }
   ],
   "source": [
    "for i in G.nodes():\n",
    "    followers_of_i = list(set(df.where(df.B == i).dropna().A))\n",
    "    print(f'followers of node {i}: {followers_of_i}')\n",
    "    print()"
   ]
  },
  {
   "cell_type": "code",
   "execution_count": 8,
   "id": "20fea76d-b2b1-4cca-9d8d-bc179afcdd53",
   "metadata": {},
   "outputs": [
    {
     "name": "stdout",
     "output_type": "stream",
     "text": [
      "node 1 follows back nodes: []\n",
      "\n",
      "node 4 follows back nodes: [3.0]\n",
      "\n",
      "node 2 follows back nodes: []\n",
      "\n",
      "node 3 follows back nodes: [4.0]\n",
      "\n",
      "node 5 follows back nodes: []\n",
      "\n"
     ]
    }
   ],
   "source": [
    "for i in G.nodes():\n",
    "    i_is_a_followee_of = set(df.where(df.A == i).dropna().B)\n",
    "    followers_of_i = set(df.where(df.B == i).dropna().A)\n",
    "    print(f'node {i} follows back nodes: {list(i_is_a_followee_of.intersection(followers_of_i))}')\n",
    "    print()"
   ]
  },
  {
   "cell_type": "code",
   "execution_count": 9,
   "id": "601e8f5b-1576-4698-af3f-ce9574ccf430",
   "metadata": {},
   "outputs": [
    {
     "data": {
      "image/png": "[encoded data removed]",
      "text/plain": [
       "<Figure size 432x288 with 1 Axes>"
      ]
     },
     "metadata": {},
     "output_type": "display_data"
    }
   ],
   "source": [
    "Aas = [1,2,3,4,4,2,3,4,6,6]\n",
    "Bbs = [4,4,4,3,5,6,2,6,2,4]\n",
    "df = pd.DataFrame()\n",
    "df['A'] = Aas\n",
    "df['B'] = Bbs\n",
    "G = nx.from_pandas_edgelist(df, source = 'A', target = 'B', create_using=nx.DiGraph)\n",
    "nx.draw_networkx(G, with_labels=True)"
   ]
  },
  {
   "cell_type": "code",
   "execution_count": 10,
   "id": "98ebc221-13f9-4588-b75b-625eebd362af",
   "metadata": {},
   "outputs": [
    {
     "name": "stdout",
     "output_type": "stream",
     "text": [
      "node 1 is a followee of: [4.0]\n",
      "\n",
      "node 4 is a followee of: [3.0, 5.0, 6.0]\n",
      "\n",
      "node 2 is a followee of: [4.0, 6.0]\n",
      "\n",
      "node 3 is a followee of: [2.0, 4.0]\n",
      "\n",
      "node 5 is a followee of: []\n",
      "\n",
      "node 6 is a followee of: [2.0, 4.0]\n",
      "\n"
     ]
    }
   ],
   "source": [
    "for i in G.nodes():\n",
    "    i_is_a_followee_of = list(set(df.where(df.A == i).dropna().B))\n",
    "    print(f'node {i} is a followee of: {i_is_a_followee_of}')\n",
    "    print()"
   ]
  },
  {
   "cell_type": "code",
   "execution_count": 11,
   "id": "b7ea8a0e-e1ad-4f7f-8fd2-96247ec55c05",
   "metadata": {},
   "outputs": [
    {
     "name": "stdout",
     "output_type": "stream",
     "text": [
      "followers of node 1: []\n",
      "\n",
      "followers of node 4: [1.0, 2.0, 3.0, 6.0]\n",
      "\n",
      "followers of node 2: [3.0, 6.0]\n",
      "\n",
      "followers of node 3: [4.0]\n",
      "\n",
      "followers of node 5: [4.0]\n",
      "\n",
      "followers of node 6: [2.0, 4.0]\n",
      "\n"
     ]
    }
   ],
   "source": [
    "for i in G.nodes():\n",
    "    followers_of_i = list(set(df.where(df.B == i).dropna().A))\n",
    "    print(f'followers of node {i}: {followers_of_i}')\n",
    "    print()"
   ]
  },
  {
   "cell_type": "code",
   "execution_count": 12,
   "id": "330621b2-25dd-43a2-a35d-883487c49b10",
   "metadata": {},
   "outputs": [
    {
     "name": "stdout",
     "output_type": "stream",
     "text": [
      "node 1 follows back nodes: []\n",
      "\n",
      "node 4 follows back nodes: [3.0, 6.0]\n",
      "\n",
      "node 2 follows back nodes: [6.0]\n",
      "\n",
      "node 3 follows back nodes: [4.0]\n",
      "\n",
      "node 5 follows back nodes: []\n",
      "\n",
      "node 6 follows back nodes: [2.0, 4.0]\n",
      "\n"
     ]
    }
   ],
   "source": [
    "for i in G.nodes():\n",
    "    i_is_a_followee_of = set(df.where(df.A == i).dropna().B)\n",
    "    followers_of_i = set(df.where(df.B == i).dropna().A)\n",
    "    print(f'node {i} follows back nodes: {list(i_is_a_followee_of.intersection(followers_of_i))}')\n",
    "    print()"
   ]
  },
  {
   "cell_type": "code",
   "execution_count": 1,
   "id": "f5dda709-8090-4e0c-8451-255a6c72bc2c",
   "metadata": {},
   "outputs": [],
   "source": []
  },
  {
   "cell_type": "code",
   "execution_count": null,
   "id": "0296bca5-f776-44ab-84cb-d0c213e69804",
   "metadata": {},
   "outputs": [],
   "source": [
    "recipr_dict = reciprocal_inefficient(G_s)"
   ]
  },
  {
   "cell_type": "code",
   "execution_count": 32,
   "id": "c1bdc312-19f3-4477-86bd-039b36346e21",
   "metadata": {},
   "outputs": [
    {
     "data": {
      "text/plain": [
       "{1: 0, 4: 4, 2: 2, 3: 1, 5: 1, 6: 2}"
      ]
     },
     "execution_count": 32,
     "metadata": {},
     "output_type": "execute_result"
    }
   ],
   "source": [
    "dict(G.in_degree)"
   ]
  },
  {
   "cell_type": "code",
   "execution_count": null,
   "id": "db9183ba-7b8e-4048-b3e4-fd6365b29bb0",
   "metadata": {},
   "outputs": [],
   "source": []
  }
 ],
 "metadata": {
  "kernelspec": {
   "display_name": "Python 3 (ipykernel)",
   "language": "python",
   "name": "python3"
  },
  "language_info": {
   "codemirror_mode": {
    "name": "ipython",
    "version": 3
   },
   "file_extension": ".py",
   "mimetype": "text/x-python",
   "name": "python",
   "nbconvert_exporter": "python",
   "pygments_lexer": "ipython3",
   "version": "3.7.11"
  }
 },
 "nbformat": 4,
 "nbformat_minor": 5
}
